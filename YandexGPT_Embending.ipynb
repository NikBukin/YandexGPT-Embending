{
  "nbformat": 4,
  "nbformat_minor": 0,
  "metadata": {
    "colab": {
      "provenance": []
    },
    "kernelspec": {
      "name": "python3",
      "display_name": "Python 3"
    },
    "language_info": {
      "name": "python"
    }
  },
  "cells": [
    {
      "cell_type": "markdown",
      "source": [
        "# Установка библиотек"
      ],
      "metadata": {
        "id": "64hE2rALb3NR"
      }
    },
    {
      "cell_type": "code",
      "execution_count": null,
      "metadata": {
        "colab": {
          "base_uri": "https://localhost:8080/"
        },
        "id": "921crXARYTY9",
        "outputId": "09730d25-9ece-4225-8faf-aafc02a9d0b7"
      },
      "outputs": [
        {
          "output_type": "stream",
          "name": "stdout",
          "text": [
            "\u001b[2K     \u001b[90m━━━━━━━━━━━━━━━━━━━━━━━━━━━━━━━━━━━━━━━━\u001b[0m \u001b[32m973.5/973.5 kB\u001b[0m \u001b[31m6.8 MB/s\u001b[0m eta \u001b[36m0:00:00\u001b[0m\n",
            "\u001b[2K     \u001b[90m━━━━━━━━━━━━━━━━━━━━━━━━━━━━━━━━━━━━━━━━\u001b[0m \u001b[32m171.5/171.5 kB\u001b[0m \u001b[31m6.8 MB/s\u001b[0m eta \u001b[36m0:00:00\u001b[0m\n",
            "\u001b[2K     \u001b[90m━━━━━━━━━━━━━━━━━━━━━━━━━━━━━━━━━━━━━━━━\u001b[0m \u001b[32m18.9/18.9 MB\u001b[0m \u001b[31m34.8 MB/s\u001b[0m eta \u001b[36m0:00:00\u001b[0m\n",
            "\u001b[2K     \u001b[90m━━━━━━━━━━━━━━━━━━━━━━━━━━━━━━━━━━━━━━━━\u001b[0m \u001b[32m2.0/2.0 MB\u001b[0m \u001b[31m45.5 MB/s\u001b[0m eta \u001b[36m0:00:00\u001b[0m\n",
            "\u001b[2K     \u001b[90m━━━━━━━━━━━━━━━━━━━━━━━━━━━━━━━━━━━━━━━━\u001b[0m \u001b[32m308.5/308.5 kB\u001b[0m \u001b[31m21.3 MB/s\u001b[0m eta \u001b[36m0:00:00\u001b[0m\n",
            "\u001b[2K     \u001b[90m━━━━━━━━━━━━━━━━━━━━━━━━━━━━━━━━━━━━━━━━\u001b[0m \u001b[32m122.8/122.8 kB\u001b[0m \u001b[31m8.1 MB/s\u001b[0m eta \u001b[36m0:00:00\u001b[0m\n",
            "\u001b[2K     \u001b[90m━━━━━━━━━━━━━━━━━━━━━━━━━━━━━━━━━━━━━━━━\u001b[0m \u001b[32m22.8/22.8 MB\u001b[0m \u001b[31m41.4 MB/s\u001b[0m eta \u001b[36m0:00:00\u001b[0m\n",
            "\u001b[2K     \u001b[90m━━━━━━━━━━━━━━━━━━━━━━━━━━━━━━━━━━━━━━━━\u001b[0m \u001b[32m431.4/431.4 kB\u001b[0m \u001b[31m31.5 MB/s\u001b[0m eta \u001b[36m0:00:00\u001b[0m\n",
            "\u001b[2K     \u001b[90m━━━━━━━━━━━━━━━━━━━━━━━━━━━━━━━━━━━━━━━━\u001b[0m \u001b[32m274.7/274.7 kB\u001b[0m \u001b[31m13.8 MB/s\u001b[0m eta \u001b[36m0:00:00\u001b[0m\n",
            "\u001b[2K     \u001b[90m━━━━━━━━━━━━━━━━━━━━━━━━━━━━━━━━━━━━━━━━\u001b[0m \u001b[32m981.5/981.5 kB\u001b[0m \u001b[31m20.7 MB/s\u001b[0m eta \u001b[36m0:00:00\u001b[0m\n",
            "\u001b[?25h  Preparing metadata (setup.py) ... \u001b[?25l\u001b[?25hdone\n",
            "\u001b[2K     \u001b[90m━━━━━━━━━━━━━━━━━━━━━━━━━━━━━━━━━━━━━━━━\u001b[0m \u001b[32m3.4/3.4 MB\u001b[0m \u001b[31m44.3 MB/s\u001b[0m eta \u001b[36m0:00:00\u001b[0m\n",
            "\u001b[2K     \u001b[90m━━━━━━━━━━━━━━━━━━━━━━━━━━━━━━━━━━━━━━━━\u001b[0m \u001b[32m53.0/53.0 kB\u001b[0m \u001b[31m4.6 MB/s\u001b[0m eta \u001b[36m0:00:00\u001b[0m\n",
            "\u001b[2K     \u001b[90m━━━━━━━━━━━━━━━━━━━━━━━━━━━━━━━━━━━━━━━━\u001b[0m \u001b[32m142.5/142.5 kB\u001b[0m \u001b[31m5.7 MB/s\u001b[0m eta \u001b[36m0:00:00\u001b[0m\n",
            "\u001b[2K     \u001b[90m━━━━━━━━━━━━━━━━━━━━━━━━━━━━━━━━━━━━━━━━\u001b[0m \u001b[32m98.7/98.7 kB\u001b[0m \u001b[31m11.1 MB/s\u001b[0m eta \u001b[36m0:00:00\u001b[0m\n",
            "\u001b[2K     \u001b[90m━━━━━━━━━━━━━━━━━━━━━━━━━━━━━━━━━━━━━━━━\u001b[0m \u001b[32m21.3/21.3 MB\u001b[0m \u001b[31m22.1 MB/s\u001b[0m eta \u001b[36m0:00:00\u001b[0m\n",
            "\u001b[2K     \u001b[90m━━━━━━━━━━━━━━━━━━━━━━━━━━━━━━━━━━━━━━━━\u001b[0m \u001b[32m49.3/49.3 kB\u001b[0m \u001b[31m5.9 MB/s\u001b[0m eta \u001b[36m0:00:00\u001b[0m\n",
            "\u001b[2K     \u001b[90m━━━━━━━━━━━━━━━━━━━━━━━━━━━━━━━━━━━━━━━━\u001b[0m \u001b[32m80.8/80.8 kB\u001b[0m \u001b[31m8.3 MB/s\u001b[0m eta \u001b[36m0:00:00\u001b[0m\n",
            "\u001b[2K     \u001b[90m━━━━━━━━━━━━━━━━━━━━━━━━━━━━━━━━━━━━━━━━\u001b[0m \u001b[32m290.4/290.4 kB\u001b[0m \u001b[31m30.8 MB/s\u001b[0m eta \u001b[36m0:00:00\u001b[0m\n",
            "\u001b[?25h  Building wheel for langdetect (setup.py) ... \u001b[?25l\u001b[?25hdone\n"
          ]
        }
      ],
      "source": [
        "!pip install -q langchain sentence_transformers lancedb unstructured"
      ]
    },
    {
      "cell_type": "code",
      "source": [
        "!pip install yandex_chain openai langchain tiktoken langchain-openai langchain-community sentence_transformers faiss-cpu -q"
      ],
      "metadata": {
        "colab": {
          "base_uri": "https://localhost:8080/"
        },
        "id": "u0AhUFs6YZW0",
        "outputId": "caa76c65-e319-479f-93a5-5d25afa0fe1a"
      },
      "execution_count": null,
      "outputs": [
        {
          "output_type": "stream",
          "name": "stdout",
          "text": [
            "  Preparing metadata (setup.py) ... \u001b[?25l\u001b[?25hdone\n",
            "\u001b[2K     \u001b[90m━━━━━━━━━━━━━━━━━━━━━━━━━━━━━━━━━━━━━━━━\u001b[0m \u001b[32m320.6/320.6 kB\u001b[0m \u001b[31m4.8 MB/s\u001b[0m eta \u001b[36m0:00:00\u001b[0m\n",
            "\u001b[2K     \u001b[90m━━━━━━━━━━━━━━━━━━━━━━━━━━━━━━━━━━━━━━━━\u001b[0m \u001b[32m1.1/1.1 MB\u001b[0m \u001b[31m11.9 MB/s\u001b[0m eta \u001b[36m0:00:00\u001b[0m\n",
            "\u001b[2K     \u001b[90m━━━━━━━━━━━━━━━━━━━━━━━━━━━━━━━━━━━━━━━━\u001b[0m \u001b[32m2.1/2.1 MB\u001b[0m \u001b[31m17.2 MB/s\u001b[0m eta \u001b[36m0:00:00\u001b[0m\n",
            "\u001b[2K     \u001b[90m━━━━━━━━━━━━━━━━━━━━━━━━━━━━━━━━━━━━━━━━\u001b[0m \u001b[32m27.0/27.0 MB\u001b[0m \u001b[31m47.5 MB/s\u001b[0m eta \u001b[36m0:00:00\u001b[0m\n",
            "\u001b[2K     \u001b[90m━━━━━━━━━━━━━━━━━━━━━━━━━━━━━━━━━━━━━━━━\u001b[0m \u001b[32m798.0/798.0 kB\u001b[0m \u001b[31m47.8 MB/s\u001b[0m eta \u001b[36m0:00:00\u001b[0m\n",
            "\u001b[2K     \u001b[90m━━━━━━━━━━━━━━━━━━━━━━━━━━━━━━━━━━━━━━━━\u001b[0m \u001b[32m2.0/2.0 MB\u001b[0m \u001b[31m53.0 MB/s\u001b[0m eta \u001b[36m0:00:00\u001b[0m\n",
            "\u001b[2K     \u001b[90m━━━━━━━━━━━━━━━━━━━━━━━━━━━━━━━━━━━━━━━━\u001b[0m \u001b[32m302.9/302.9 kB\u001b[0m \u001b[31m25.3 MB/s\u001b[0m eta \u001b[36m0:00:00\u001b[0m\n",
            "\u001b[2K     \u001b[90m━━━━━━━━━━━━━━━━━━━━━━━━━━━━━━━━━━━━━━━━\u001b[0m \u001b[32m56.5/56.5 kB\u001b[0m \u001b[31m1.4 MB/s\u001b[0m eta \u001b[36m0:00:00\u001b[0m\n",
            "\u001b[2K     \u001b[90m━━━━━━━━━━━━━━━━━━━━━━━━━━━━━━━━━━━━━━━━\u001b[0m \u001b[32m75.6/75.6 kB\u001b[0m \u001b[31m5.2 MB/s\u001b[0m eta \u001b[36m0:00:00\u001b[0m\n",
            "\u001b[2K     \u001b[90m━━━━━━━━━━━━━━━━━━━━━━━━━━━━━━━━━━━━━━━━\u001b[0m \u001b[32m2.0/2.0 MB\u001b[0m \u001b[31m52.2 MB/s\u001b[0m eta \u001b[36m0:00:00\u001b[0m\n",
            "\u001b[2K     \u001b[90m━━━━━━━━━━━━━━━━━━━━━━━━━━━━━━━━━━━━━━━━\u001b[0m \u001b[32m2.0/2.0 MB\u001b[0m \u001b[31m33.8 MB/s\u001b[0m eta \u001b[36m0:00:00\u001b[0m\n",
            "\u001b[2K     \u001b[90m━━━━━━━━━━━━━━━━━━━━━━━━━━━━━━━━━━━━━━━━\u001b[0m \u001b[32m2.0/2.0 MB\u001b[0m \u001b[31m56.4 MB/s\u001b[0m eta \u001b[36m0:00:00\u001b[0m\n",
            "\u001b[2K     \u001b[90m━━━━━━━━━━━━━━━━━━━━━━━━━━━━━━━━━━━━━━━━\u001b[0m \u001b[32m1.9/1.9 MB\u001b[0m \u001b[31m41.6 MB/s\u001b[0m eta \u001b[36m0:00:00\u001b[0m\n",
            "\u001b[2K     \u001b[90m━━━━━━━━━━━━━━━━━━━━━━━━━━━━━━━━━━━━━━━━\u001b[0m \u001b[32m1.9/1.9 MB\u001b[0m \u001b[31m50.0 MB/s\u001b[0m eta \u001b[36m0:00:00\u001b[0m\n",
            "\u001b[2K     \u001b[90m━━━━━━━━━━━━━━━━━━━━━━━━━━━━━━━━━━━━━━━━\u001b[0m \u001b[32m1.9/1.9 MB\u001b[0m \u001b[31m46.2 MB/s\u001b[0m eta \u001b[36m0:00:00\u001b[0m\n",
            "\u001b[2K     \u001b[90m━━━━━━━━━━━━━━━━━━━━━━━━━━━━━━━━━━━━━━━━\u001b[0m \u001b[32m1.9/1.9 MB\u001b[0m \u001b[31m49.0 MB/s\u001b[0m eta \u001b[36m0:00:00\u001b[0m\n",
            "\u001b[2K     \u001b[90m━━━━━━━━━━━━━━━━━━━━━━━━━━━━━━━━━━━━━━━━\u001b[0m \u001b[32m1.9/1.9 MB\u001b[0m \u001b[31m41.0 MB/s\u001b[0m eta \u001b[36m0:00:00\u001b[0m\n",
            "\u001b[2K     \u001b[90m━━━━━━━━━━━━━━━━━━━━━━━━━━━━━━━━━━━━━━━━\u001b[0m \u001b[32m1.8/1.8 MB\u001b[0m \u001b[31m18.8 MB/s\u001b[0m eta \u001b[36m0:00:00\u001b[0m\n",
            "\u001b[2K     \u001b[90m━━━━━━━━━━━━━━━━━━━━━━━━━━━━━━━━━━━━━━━━\u001b[0m \u001b[32m1.8/1.8 MB\u001b[0m \u001b[31m21.2 MB/s\u001b[0m eta \u001b[36m0:00:00\u001b[0m\n",
            "\u001b[2K     \u001b[90m━━━━━━━━━━━━━━━━━━━━━━━━━━━━━━━━━━━━━━━━\u001b[0m \u001b[32m1.8/1.8 MB\u001b[0m \u001b[31m33.6 MB/s\u001b[0m eta \u001b[36m0:00:00\u001b[0m\n",
            "\u001b[2K     \u001b[90m━━━━━━━━━━━━━━━━━━━━━━━━━━━━━━━━━━━━━━━━\u001b[0m \u001b[32m1.8/1.8 MB\u001b[0m \u001b[31m15.8 MB/s\u001b[0m eta \u001b[36m0:00:00\u001b[0m\n",
            "\u001b[2K     \u001b[90m━━━━━━━━━━━━━━━━━━━━━━━━━━━━━━━━━━━━━━━━\u001b[0m \u001b[32m1.8/1.8 MB\u001b[0m \u001b[31m36.0 MB/s\u001b[0m eta \u001b[36m0:00:00\u001b[0m\n",
            "\u001b[2K     \u001b[90m━━━━━━━━━━━━━━━━━━━━━━━━━━━━━━━━━━━━━━━━\u001b[0m \u001b[32m1.7/1.7 MB\u001b[0m \u001b[31m42.4 MB/s\u001b[0m eta \u001b[36m0:00:00\u001b[0m\n",
            "\u001b[2K     \u001b[90m━━━━━━━━━━━━━━━━━━━━━━━━━━━━━━━━━━━━━━━━\u001b[0m \u001b[32m1.7/1.7 MB\u001b[0m \u001b[31m51.4 MB/s\u001b[0m eta \u001b[36m0:00:00\u001b[0m\n",
            "\u001b[2K     \u001b[90m━━━━━━━━━━━━━━━━━━━━━━━━━━━━━━━━━━━━━━━━\u001b[0m \u001b[32m1.7/1.7 MB\u001b[0m \u001b[31m54.3 MB/s\u001b[0m eta \u001b[36m0:00:00\u001b[0m\n",
            "\u001b[2K     \u001b[90m━━━━━━━━━━━━━━━━━━━━━━━━━━━━━━━━━━━━━━━━\u001b[0m \u001b[32m1.7/1.7 MB\u001b[0m \u001b[31m30.8 MB/s\u001b[0m eta \u001b[36m0:00:00\u001b[0m\n",
            "\u001b[2K     \u001b[90m━━━━━━━━━━━━━━━━━━━━━━━━━━━━━━━━━━━━━━━━\u001b[0m \u001b[32m1.7/1.7 MB\u001b[0m \u001b[31m57.0 MB/s\u001b[0m eta \u001b[36m0:00:00\u001b[0m\n",
            "\u001b[2K     \u001b[90m━━━━━━━━━━━━━━━━━━━━━━━━━━━━━━━━━━━━━━━━\u001b[0m \u001b[32m77.9/77.9 kB\u001b[0m \u001b[31m8.0 MB/s\u001b[0m eta \u001b[36m0:00:00\u001b[0m\n",
            "\u001b[2K     \u001b[90m━━━━━━━━━━━━━━━━━━━━━━━━━━━━━━━━━━━━━━━━\u001b[0m \u001b[32m58.3/58.3 kB\u001b[0m \u001b[31m6.6 MB/s\u001b[0m eta \u001b[36m0:00:00\u001b[0m\n",
            "\u001b[2K     \u001b[90m━━━━━━━━━━━━━━━━━━━━━━━━━━━━━━━━━━━━━━━━\u001b[0m \u001b[32m302.9/302.9 kB\u001b[0m \u001b[31m32.4 MB/s\u001b[0m eta \u001b[36m0:00:00\u001b[0m\n",
            "\u001b[2K     \u001b[90m━━━━━━━━━━━━━━━━━━━━━━━━━━━━━━━━━━━━━━━━\u001b[0m \u001b[32m302.8/302.8 kB\u001b[0m \u001b[31m33.3 MB/s\u001b[0m eta \u001b[36m0:00:00\u001b[0m\n",
            "\u001b[2K     \u001b[90m━━━━━━━━━━━━━━━━━━━━━━━━━━━━━━━━━━━━━━━━\u001b[0m \u001b[32m303.0/303.0 kB\u001b[0m \u001b[31m31.0 MB/s\u001b[0m eta \u001b[36m0:00:00\u001b[0m\n",
            "\u001b[2K     \u001b[90m━━━━━━━━━━━━━━━━━━━━━━━━━━━━━━━━━━━━━━━━\u001b[0m \u001b[32m302.9/302.9 kB\u001b[0m \u001b[31m31.0 MB/s\u001b[0m eta \u001b[36m0:00:00\u001b[0m\n",
            "\u001b[2K     \u001b[90m━━━━━━━━━━━━━━━━━━━━━━━━━━━━━━━━━━━━━━━━\u001b[0m \u001b[32m302.2/302.2 kB\u001b[0m \u001b[31m32.2 MB/s\u001b[0m eta \u001b[36m0:00:00\u001b[0m\n",
            "\u001b[2K     \u001b[90m━━━━━━━━━━━━━━━━━━━━━━━━━━━━━━━━━━━━━━━━\u001b[0m \u001b[32m299.3/299.3 kB\u001b[0m \u001b[31m31.4 MB/s\u001b[0m eta \u001b[36m0:00:00\u001b[0m\n",
            "\u001b[2K     \u001b[90m━━━━━━━━━━━━━━━━━━━━━━━━━━━━━━━━━━━━━━━━\u001b[0m \u001b[32m1.6/1.6 MB\u001b[0m \u001b[31m75.0 MB/s\u001b[0m eta \u001b[36m0:00:00\u001b[0m\n",
            "\u001b[2K     \u001b[90m━━━━━━━━━━━━━━━━━━━━━━━━━━━━━━━━━━━━━━━━\u001b[0m \u001b[32m1.6/1.6 MB\u001b[0m \u001b[31m66.7 MB/s\u001b[0m eta \u001b[36m0:00:00\u001b[0m\n",
            "\u001b[2K     \u001b[90m━━━━━━━━━━━━━━━━━━━━━━━━━━━━━━━━━━━━━━━━\u001b[0m \u001b[32m1.6/1.6 MB\u001b[0m \u001b[31m74.4 MB/s\u001b[0m eta \u001b[36m0:00:00\u001b[0m\n",
            "\u001b[2K     \u001b[90m━━━━━━━━━━━━━━━━━━━━━━━━━━━━━━━━━━━━━━━━\u001b[0m \u001b[32m1.6/1.6 MB\u001b[0m \u001b[31m67.9 MB/s\u001b[0m eta \u001b[36m0:00:00\u001b[0m\n",
            "\u001b[2K     \u001b[90m━━━━━━━━━━━━━━━━━━━━━━━━━━━━━━━━━━━━━━━━\u001b[0m \u001b[32m1.6/1.6 MB\u001b[0m \u001b[31m76.3 MB/s\u001b[0m eta \u001b[36m0:00:00\u001b[0m\n",
            "\u001b[2K     \u001b[90m━━━━━━━━━━━━━━━━━━━━━━━━━━━━━━━━━━━━━━━━\u001b[0m \u001b[32m1.6/1.6 MB\u001b[0m \u001b[31m72.6 MB/s\u001b[0m eta \u001b[36m0:00:00\u001b[0m\n",
            "\u001b[2K     \u001b[90m━━━━━━━━━━━━━━━━━━━━━━━━━━━━━━━━━━━━━━━━\u001b[0m \u001b[32m1.6/1.6 MB\u001b[0m \u001b[31m77.2 MB/s\u001b[0m eta \u001b[36m0:00:00\u001b[0m\n",
            "\u001b[2K     \u001b[90m━━━━━━━━━━━━━━━━━━━━━━━━━━━━━━━━━━━━━━━━\u001b[0m \u001b[32m1.6/1.6 MB\u001b[0m \u001b[31m76.6 MB/s\u001b[0m eta \u001b[36m0:00:00\u001b[0m\n",
            "\u001b[2K     \u001b[90m━━━━━━━━━━━━━━━━━━━━━━━━━━━━━━━━━━━━━━━━\u001b[0m \u001b[32m1.5/1.5 MB\u001b[0m \u001b[31m66.0 MB/s\u001b[0m eta \u001b[36m0:00:00\u001b[0m\n",
            "\u001b[2K     \u001b[90m━━━━━━━━━━━━━━━━━━━━━━━━━━━━━━━━━━━━━━━━\u001b[0m \u001b[32m1.5/1.5 MB\u001b[0m \u001b[31m73.3 MB/s\u001b[0m eta \u001b[36m0:00:00\u001b[0m\n",
            "\u001b[?25h  Preparing metadata (setup.py) ... \u001b[?25l\u001b[?25hdone\n",
            "  Preparing metadata (setup.py) ... \u001b[?25l\u001b[?25hdone\n",
            "  Preparing metadata (setup.py) ... \u001b[?25l\u001b[?25hdone\n",
            "  Building wheel for yandex_chain (setup.py) ... \u001b[?25l\u001b[?25hdone\n"
          ]
        }
      ]
    },
    {
      "cell_type": "code",
      "source": [
        "!pip install langchainhub"
      ],
      "metadata": {
        "colab": {
          "base_uri": "https://localhost:8080/"
        },
        "id": "UzI7qoRRhywr",
        "outputId": "f1b3197b-4968-4ed5-b42c-383a94c775cd"
      },
      "execution_count": null,
      "outputs": [
        {
          "output_type": "stream",
          "name": "stdout",
          "text": [
            "Collecting langchainhub\n",
            "  Downloading langchainhub-0.1.16-py3-none-any.whl (4.8 kB)\n",
            "Requirement already satisfied: requests<3,>=2 in /usr/local/lib/python3.10/dist-packages (from langchainhub) (2.31.0)\n",
            "Collecting types-requests<3.0.0.0,>=2.31.0.2 (from langchainhub)\n",
            "  Downloading types_requests-2.32.0.20240523-py3-none-any.whl (15 kB)\n",
            "Requirement already satisfied: charset-normalizer<4,>=2 in /usr/local/lib/python3.10/dist-packages (from requests<3,>=2->langchainhub) (3.3.2)\n",
            "Requirement already satisfied: idna<4,>=2.5 in /usr/local/lib/python3.10/dist-packages (from requests<3,>=2->langchainhub) (3.7)\n",
            "Requirement already satisfied: urllib3<3,>=1.21.1 in /usr/local/lib/python3.10/dist-packages (from requests<3,>=2->langchainhub) (2.0.7)\n",
            "Requirement already satisfied: certifi>=2017.4.17 in /usr/local/lib/python3.10/dist-packages (from requests<3,>=2->langchainhub) (2024.2.2)\n",
            "Installing collected packages: types-requests, langchainhub\n",
            "Successfully installed langchainhub-0.1.16 types-requests-2.32.0.20240523\n"
          ]
        }
      ]
    },
    {
      "cell_type": "code",
      "source": [
        "!pip install python-docx"
      ],
      "metadata": {
        "colab": {
          "base_uri": "https://localhost:8080/"
        },
        "id": "K0pnAfXFheAd",
        "outputId": "ff45552e-9b02-42e3-f372-1acb8d8e33fa"
      },
      "execution_count": null,
      "outputs": [
        {
          "output_type": "stream",
          "name": "stdout",
          "text": [
            "Collecting python-docx\n",
            "  Downloading python_docx-1.1.2-py3-none-any.whl (244 kB)\n",
            "\u001b[2K     \u001b[90m━━━━━━━━━━━━━━━━━━━━━━━━━━━━━━━━━━━━━━━━\u001b[0m \u001b[32m244.3/244.3 kB\u001b[0m \u001b[31m4.9 MB/s\u001b[0m eta \u001b[36m0:00:00\u001b[0m\n",
            "\u001b[?25hRequirement already satisfied: lxml>=3.1.0 in /usr/local/lib/python3.10/dist-packages (from python-docx) (4.9.4)\n",
            "Requirement already satisfied: typing-extensions>=4.9.0 in /usr/local/lib/python3.10/dist-packages (from python-docx) (4.11.0)\n",
            "Installing collected packages: python-docx\n",
            "Successfully installed python-docx-1.1.2\n"
          ]
        }
      ]
    },
    {
      "cell_type": "markdown",
      "source": [
        "# Импорт библиотек"
      ],
      "metadata": {
        "id": "ZZksCVmvb9Ov"
      }
    },
    {
      "cell_type": "code",
      "source": [
        "from langchain_community.document_loaders import PyPDFLoader, DirectoryLoader,UnstructuredWordDocumentLoader\n",
        "import requests\n",
        "from yandex_chain import YandexLLM, YandexEmbeddings\n",
        "from langchain.text_splitter import (\n",
        "    CharacterTextSplitter,\n",
        "    RecursiveCharacterTextSplitter,\n",
        ")\n",
        "from langchain.vectorstores import FAISS\n",
        "from langchain.schema import StrOutputParser\n",
        "from langchain_core.prompts import ChatPromptTemplate\n",
        "from langchain_core.runnables import RunnablePassthrough\n",
        "import time\n",
        "from langchain.embeddings.base import Embeddings\n",
        "from langchain.agents import AgentExecutor, create_react_agent\n",
        "from langchain import hub\n",
        "from langchain.chains.conversation.memory import ConversationSummaryMemory"
      ],
      "metadata": {
        "id": "nKS7KixkYvrG"
      },
      "execution_count": null,
      "outputs": []
    },
    {
      "cell_type": "markdown",
      "source": [
        "# Выгрузка документов из папки с использованием `DirectoryLoader` из `LangChain`\n",
        "\n",
        "## В данном случе выгружаются все файлы с расширением \".pdf\", поэтому в  `loader_cls` указываем `PyPDFLoader`\n",
        "\n",
        "Подробнее:\n",
        "\n",
        "https://python.langchain.com/v0.1/docs/modules/data_connection/document_loaders/file_directory/"
      ],
      "metadata": {
        "id": "Dy1ywapAcCB1"
      }
    },
    {
      "cell_type": "markdown",
      "source": [
        "Перед запуском необходимо загрузить документы (скрин ниже в случае `Colab`)\n",
        "\n",
        "![image.png](data:image/png;base64,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)"
      ],
      "metadata": {
        "id": "D8Uue46DdhdR"
      }
    },
    {
      "cell_type": "code",
      "source": [
        "loader_pdf = DirectoryLoader(\"НМД\", glob=\"**/*.pdf\", loader_cls=PyPDFLoader)\n",
        "\n",
        "docs_pdf= loader_pdf.load()"
      ],
      "metadata": {
        "id": "2hjbECQiYbTM"
      },
      "execution_count": null,
      "outputs": []
    },
    {
      "cell_type": "code",
      "source": [
        "loader_dox = DirectoryLoader(\"НМД\", glob=\"**/*.docx\", loader_cls=UnstructuredWordDocumentLoader)\n",
        "\n",
        "documents_dox = loader_dox.load()"
      ],
      "metadata": {
        "colab": {
          "base_uri": "https://localhost:8080/"
        },
        "id": "7TXh5HRAf3wf",
        "outputId": "497669fd-5c64-4f8e-ae8e-c9bd677b1eb1"
      },
      "execution_count": null,
      "outputs": [
        {
          "output_type": "stream",
          "name": "stderr",
          "text": [
            "[nltk_data] Downloading package punkt to /root/nltk_data...\n",
            "[nltk_data]   Unzipping tokenizers/punkt.zip.\n",
            "[nltk_data] Downloading package averaged_perceptron_tagger to\n",
            "[nltk_data]     /root/nltk_data...\n",
            "[nltk_data]   Unzipping taggers/averaged_perceptron_tagger.zip.\n"
          ]
        }
      ]
    },
    {
      "cell_type": "code",
      "source": [
        "docs = docs_pdf + documents_dox"
      ],
      "metadata": {
        "id": "4ynQw-l7gU87"
      },
      "execution_count": null,
      "outputs": []
    },
    {
      "cell_type": "markdown",
      "source": [
        "Для эмбеддинга необходмо подавть список из строковых значений (сейчас они формата Document)."
      ],
      "metadata": {
        "id": "WlbN3ZIOei_5"
      }
    },
    {
      "cell_type": "code",
      "source": [
        "docs = [docs[i].page_content for i in range(len(docs))]"
      ],
      "metadata": {
        "id": "WrI1g09ZYgSs"
      },
      "execution_count": null,
      "outputs": []
    },
    {
      "cell_type": "markdown",
      "source": [
        "Проверяем, что первый документ с необходимым нам форматом и корректно выгрузился"
      ],
      "metadata": {
        "id": "uIQIk5hQdEtw"
      }
    },
    {
      "cell_type": "code",
      "source": [
        "docs[-1]"
      ],
      "metadata": {
        "colab": {
          "base_uri": "https://localhost:8080/",
          "height": 192
        },
        "id": "ORxW-y1PYhlE",
        "outputId": "9777808f-cdc3-4fbd-ba8f-2eb9feeb560a"
      },
      "execution_count": null,
      "outputs": [
        {
          "output_type": "execute_result",
          "data": {
            "text/plain": [
              "'СК-03.03.02.02 версия 2.1\\n\\nГруппа компаний ГПН Стандарт на процесс Проведение безальтернативной закупки\\n\\nУТВЕРЖДАЮ ПАО «Газпром нефть» (наименование организации) (должность) (подпись) (И.О. Фамилия) «___»___________________2024 г.\\n\\nСведения о документе\\n\\nРАЗРАБОТАН Управлением планирования, отчетности и методологии ПАО\\xa0«Газпром нефть»\\n\\nВЛАДЕЛЕЦ ПРОЦЕССА Начальник Отдела методологии Управления планирования, отчетности и методологии ПАО «Газпром нефть»\\n\\nДАННЫЙ ДОКУМЕНТ ОТМЕНЯЕТ ДЕЙСТВИЕ стандарта на процесс СК-03.03.02.02 «Проведение безальтернативной закупки», версия 2.0\\n\\nВВЕДЕН В ДЕЙСТВИЕ на 3 года с даты утверждения НМД\\n\\n\\n\\nСодержание\\n\\n1\\tОбласть применения\\t3\\n\\n2\\tНормативные ссылки\\t3\\n\\n3\\tТермины и сокращения\\t4\\n\\n4\\tОбщие требования к проведению безальтернативной закупки\\t6\\n\\n5\\tОсобенности покупки либо аренды земельных участков, находящихся в государственной или муниципальной собственности\\t7\\n\\n6\\tНазначение и структура процесса\\t9\\n\\n7\\tПорядок выполнения подпроцесса «03.03.02.02.01 Безальтернативная закупка (стоимостью менее 10\\xa0млн руб. без НДС)»\\t10\\n\\n8\\tПорядок выполнения подпроцесса «03.03.02.02.02 Безальтернативная закупка (стоимостью 10 млн руб. без НДС и более)»\\t17\\n\\nПриложение 1 Описание комплектов документов\\t26\\n\\n(обязательное)\\t26\\n\\nБиблиография\\t27\\n\\nИстория изменений документа\\t28\\n\\nШаблоны, введенные в действие настоящим документом (обеспечивающие выполнение документа)\\n\\nОбозначение шаблона Наименование шаблона Ш-03.03.02.02-01 Реестр безальтернативных закупок Ш-03.03.02.02-02 Перечень покупок и/или аренды земельных участков, находящихся в государственной или муниципальной собственности\\n\\n2\\nДата печати 10.04.2024 10:45\\n\\nСК-03.03.02.02 версия 2.1\\n\\n\\n\\nОбласть применения\\n\\nНастоящий стандарт устанавливает порядок проведения безальтернативных закупок товаров, работ, услуг, относится к группе процессов 03.03 «Выбор контрагентов для поставки товаров, выполнения работ, оказания услуг» категории 03 «Управление закупками».\\n\\nПри распространении НМД через механизм тиражирование:\\n\\nПоложения настоящего стандарта вступают в силу с момента его утверждения и действуют до момента утверждения актуализированной версии стандарта. \\n\\nПоложения стандарта подлежат соблюдению в ПАО «Газпром нефть» и\\xa0Обществах Газпром нефть, утвердивших собственный аналогичный стандарт.\\n\\nПри распространении НМД через механизм Приказ о применении:\\n\\nПоложения настоящего стандарта вступают в силу в организациях, указанных в\\xa0Плане мероприятий по внедрению настоящего документа в сценарии «Применение НМД КЦ в ДО в соответствии Приказом ПП ДО», без необходимости его утверждения, после утверждения в данных организациях приказа о применении НМД ПАО «Газпром нефть», и\\xa0действуют до момента утверждения в ПАО «Газпром нефть» актуализированной версии стандарта либо отмены настоящего документа. \\n\\nПоложения настоящего стандарта подлежат обязательному применению в\\xa0ПАО\\xa0«Газпром нефть» и организациях, указанных в Плане мероприятий по внедрению настоящего документа в сценарии «Применение НМД КЦ в ДО в соответствии Приказом\\xa0ПП ДО». \\n\\nМеханизмы распространения настоящего стандарта и наименования Обществ Газпром нефть указаны в Плане мероприятий по внедрению настоящего документа.\\n\\nДля Обществ Газпром нефть, осуществляющих закупочную деятельность в\\xa0соответствии с нормами Федерального закона от 18.07.2011 №\\xa0223-ФЗ «О\\xa0закупках товаров, работ, услуг отдельными видами юридических лиц» положения настоящего стандарта распространяются только в части, не противоречащей нормам Федерального закона от 18.07.2011 №\\xa0223-ФЗ «О\\xa0закупках товаров, работ, услуг отдельными видами юридических лиц» [1].\\n\\nЦентральный орган управления закупками ПАО\\xa0«Газпром нефть», в отдельных случаях в целях оптимизации закупочной деятельности ПАО\\xa0«Газпром нефть» и/или Обществ Газпром нефть, вправе устанавливать не противоречащий настоящему Стандарту специальный порядок осуществления безальтернативных закупок. Такие решения оформляются официальными разъяснениями Центрального органа управления закупками ПАО\\xa0«Газпром нефть» (направляются адресатам) в формате электронного письма с ящика электронной почты COUZ@gazprom-neft.ru и/или публикуются в разделе «Разъяснения» Интерактивного методологического ресурса ЦОУЗ».\\n\\nНормативные ссылки\\n\\nВ настоящем документе содержатся ссылки на следующие нормативные \\n\\n\\n\\nи\\xa0организационно-распорядительные документы Группы компаний ГПН:\\n\\nКТ-004 «Термины и сокращения»\\n\\nПоложение о закупках товаров, работ, услуг ПАО «Газпром нефть», утвержденное решением Совета директоров ПАО «Газпром нефть» от 29.03.2019, протокол №\\xa0ПТ-0102/14\\n\\nСК-03.02.01 «Формирование Годового плана закупок»\\n\\nШ-03.03.02.02-01 «Реестр безальтернативных закупок»\\n\\nШ-03.03.02.02-02 «Перечень покупок и/или аренды земельных участков, находящихся в государственной или муниципальной собственности».\\n\\nТермины и сокращения\\n\\nВ настоящем документе используются следующие термины и сокращения:\\n\\nбезальтернативная закупка (БАЗ): способ неконкурентной закупки, при которой Заказчик заключает договор с единственно возможным поставщиком (подрядчиком, исполнителем) в случаях, предусмотренных п.4.1 настоящего стандарта.\\n\\nЛПС: логистика, переработка и сбыт \\n\\nРД: разведка и добыча \\n\\nГодовой план закупок (ГПЗ): план закупок ПАО «Газпром нефть» или Общества Газпром нефть, сформированный в соответствии с требованиями, установленными Центральным органом управления закупками ПАО «Газпром нефть», представляющий собой свод записей о планируемых Компанией или Обществом Газпром нефть закупках в установленной табличной форме.\\n\\nДЗиКС: Департамент по закупкам и капитальному строительству ПАО «Газпром нефть».\\n\\nдоговор: письменное соглашение двух или более лиц об установлении, изменении и\\xa0прекращении прав, обязанностей и/или о согласовании основных намерений и условий делового сотрудничества и партнерства.\\n\\nдоговорная документация: документы, оформляемые в процессе заключения договора и содержащие, дополняющие, изменяющие или уточняющие отдельные условия договора (приложения, дополнения и дополнительные соглашения к договору, спецификации, технические задания, техническая документация, протоколы разногласий или протоколы согласования разногласий и т.п.).\\n\\nПримечание – документы, оформляемые в процессе исполнения договора для фиксации факта исполнения отдельных обязательств по договору (акты приема-передачи имущества, акты сдачи-приемки работ/услуг, отчеты, уведомления), товарно-транспортные накладные, коносаменты, складские свидетельства, заявки, поручения экспедитору и иные товаросопроводительные (товарораспорядительные) документы, а равно счета (инвойсы), счета-фактуры и прочие первичные учетные документы не относятся к договорной документации (за исключением сделок, не предполагающих заключения договоров).\\n\\nдоговорный документ (ДД): договор или договорная документация.\\n\\nУУПОиМ: Управление планирования, отчетности и методологии Департамен по закупкам и капитальному строительству ПАО\\xa0«Газпром\\xa0нефть».\\n\\nДРП: Департамент региональных продаж ПАО\\xa0«Газпром нефть».\\n\\nЕОЛ: единое ответственное лицо.\\n\\nЗаказчик: ПАО\\xa0«Газпром\\xa0нефть» или предприятие из числа Обществ Газпром\\xa0нефть – \\n\\n\\n\\nюридическое лицо, для обеспечения нужд которого осуществляется закупка.\\n\\nзапись Годового плана закупок (запись ГПЗ): сведения о планируемой закупке, включающие в себя ее организационные характеристики. Одна запись плана соответствует одной строке ГПЗ.\\n\\nЗПППП: Заместитель Председателя Правления.\\n\\nИнтерактивный методологический ресурс ЦОУЗ: официальный информационный ресурс Центрального органа управления закупками ПАО\\xa0«Газпром нефть» в области методологической поддержки осуществления закупок ПАО\\xa0«Газпром нефть» и Обществ Газпром нефть. \\n\\nКомпания/Корпоративный центр (КЦ): ПАО\\xa0«Газпром нефть».\\n\\nНДС: налог на добавленную стоимость.\\n\\nОбщества Газпром нефть (Общества): организации, относящиеся к одной или\\xa0нескольким из перечисленных ниже категорий:\\n\\nдочерние общества ПАО\\xa0«Газпром нефть»;\\n\\nдочерние общества дочерних обществ ПАО\\xa0«Газпром нефть»;\\n\\nобщества и организации, в уставном капитале которых ПАО\\xa0«Газпром нефть» совместно со своими дочерними обществами и/или дочерними обществами дочерних обществ ПАО\\xa0«Газпром нефть», владеют более 50% долей (акций);\\n\\nобщества и организации, не являющиеся дочерними, финансовая отчетность которых входит в консолидированную финансовую отчетность ПАО\\xa0«Газпром нефть» по\\xa0международным Стандартам финансовой отчетности (МСФО).\\n\\nПеречень покупок и/или аренды земельных участков, находящихся в\\xa0государственной или муниципальной собственности (Перечень): документ, содержащий информацию о предельных расценках на покупку и/или аренду земельных участков, относящихся по своим характеристикам к случаям, определенным п.4.1.3\\xa0настоящего стандарта, планируемых на предстоящий период (год/квартал), сформированный в соответствии с Ш-03.03.02.02-02.\\n\\nФормирование Перечня возможно, коППа параметры, требуемые для формирования Реестра безальтернативных закупок, остаются неопределенными.\\n\\nПодразделение управления имуществом: Хозяйственное управление ПАО «Газпром нефть».\\n\\nПоложение о закупках (ПоЗ): Положение о закупках товаров, работ, услуг ПАО\\xa0«Газпром нефть».\\n\\nРеестр безальтернативных закупок (Реестр): документ, содержащий информацию о\\xa0планируемых на предстоящий период (квартал/месяц) закупок, относящихся по своим характеристикам к случаям, предусмотренным п.4.1\\xa0настоящего стандарта, сформированный в соответствии с Ш-03.03.02.02-01. \\n\\nСогласующее лицо: ответственное должностное лицо, наделенное полномочиями по\\xa0согласованию возможности безальтернативной закупки.\\n\\nСП ПП ПППП: структурное подразделение прямого подчинения \\n\\nПредседателю Правления ПАО\\xa0«Газпром нефть».\\n\\nЦентральный орган управления закупками (ЦОУЗ): Департамент по закупкам \\n\\n\\n\\nи\\xa0капитальному строительству ПАО\\xa0«Газпром нефть».\\n\\nПримечание – иные термины и сокращения определены в Положении о закупках товаров, работ, услуг ПАО «Газпром нефть».\\n\\nОбщие требования к проведению безальтернативной закупки\\n\\nЗаказчик вправе осуществить безальтернативную закупку, если в силу особенностей рынка обращения соответствующего товара/работы/услуги конкуренция отсутствует, в следующих случаях:\\n\\nПоставка товаров, выполнение работ, оказание услуг относятся к сфере деятельности субъектов естественных монополий в соответствии с Федеральным законом от 17.08.1995 №\\xa0147-ФЗ «О естественных монополиях» [2], и отсутствует альтернатива поставщику (подрядчику, исполнителю) (п.16.1.1\\xa0ПоЗ).\\n\\nДоговор заключается с гарантирующим поставщиком электрической энергии энергоснабжения (п.16.1.2\\xa0ПоЗ).\\n\\nРаботы или услуги выполняются (оказываются) исключительно органами исполнительной власти в соответствии с их полномочиями или подведомственными им государственными учреждениями, государственными унитарными предприятиями, иными участвующими в предоставлении государственных и муниципальных услуг организациями, привлеченными органами исполнительной власти в соответствии с федеральными законами для оказания услуг, необходимых и обязательных для предоставления государственных услуг, соответствующие полномочия которых устанавливаются нормативными правовыми актами Российской Федерации, нормативными правовыми актами субъекта Российской Федерации (п.16.1.3\\xa0ПоЗ).\\n\\nОсуществляется оказание услуг водоснабжения, водоотведения, канализации, теплоснабжения, газоснабжения (за исключением услуг по реализации сжиженного газа), подключение (присоединение) к сетям инженерно-технического обеспечения по\\xa0регулируемым в соответствии с законодательством Российской Федерации ценам (тарифам) (п.16.1.4\\xa0ПоЗ).\\n\\nПри условии включения в Годовой план закупок потребности, которая по своим характеристикам относится к любому из случаев, предусмотренных п.4.1\\xa0настоящего стандарта, Инициатор формирует Реестр безальтернативных закупок на предстоящий период (квартал/месяц).\\n\\nРеестр безальтернативных закупок формируется в соответствии с планируемой датой предоставления документов, указанной в Годовом плане закупок, и подлежит утверждению в соответствии с уровнями принятия решения, установленными в\\xa0п.4.6\\xa0настоящего стандарта, до начала предстоящего периода (квартал/месяц).\\n\\nОбоснованность включения закупок в Реестр и достоверность сведений Реестра являются ответственностью Руководителя структурного подразделения Заказчика (для\\xa0КЦ)/Руководителя Общества (для Обществ Газпром нефть), заинтересованного в\\xa0безальтернативной закупке и инициирующего ее проведение.\\n\\nПри осуществлении безальтернативных закупок в рамках утвержденного Реестра оформление дополнительных закупочных решений не требуется.\\n\\nУровень принятия решения о возможности безальтернативных закупок, включенных в Реестр:\\n\\nПри стоимости планируемого к заключению в соответствии с ГПЗ договора менее\\xa010 млн\\xa0руб. без НДС:\\n\\nдля подразделений КЦ: решение о возможности безальтернативной закупки принимается Заместителем Председателя Правления по профилю деятельности\\n\\n\\n\\nили\\xa0Руководителем структурного подразделения прямого подчинения Председателю правления ПАО\\xa0«Газпром нефть»;\\n\\nдля Обществ Газпром нефть: решение о возможности безальтернативной закупки принимается Руководителем Общества Газпром нефть.\\n\\nПри стоимости планируемого к заключению в соответствии с ГПЗ договора 10\\xa0млн руб. без НДС и более для подразделений КЦ/Обществ Газпром нефть решение о\\xa0возможности безальтернативной закупки принимается на уровне ЦОУЗ при условии отсутствия со стороны Управления планирования, отчетности и методологии Департамента по закупкам и капитальному строительству ПАО «Газпром нефть» вопросов/замечаний методологического характера к Реестру.\\n\\nРеестр с подтверждающими документами подлежит направлению на\\xa0рассмотрение в ЦОУЗ не позднее чем за 10 рабочих дней до начала предстоящего периода (квартал/месяц).\\n\\nОсобенности покупки либо аренды земельных участков, находящихся в государственной или муниципальной собственности\\n\\nПри покупке либо аренде земельных участков, находящихся в государственной или муниципальной собственности, на основании п.4.1.3 настоящего стандарта, Инициатор формирует Реестр безальтернативных закупок.\\n\\nРеестр безальтернативных закупок формируется в соответствии с порядком, определенным п.4 настоящего стандарта.\\n\\nВ случае если отдельные параметры (стоимость и/или иные параметры), требуемые для формирования Реестра безальтернативных закупок, остаются неопределенными, возможно формирование Перечня покупок и/или аренды земельных участков, находящихся в государственной или муниципальной собственности, в соответствии с Ш-03.03.02.02-02.\\n\\nПеречень формируется с учетом предельных расценок покупки и/или аренды земельных участков, находящихся в государственной или муниципальной собственности, в рамках которых в дальнейшем могут заключаться договорные документы.\\n\\nК уровням ответственности за обоснованность и достоверность сведений, включаемых в Перечень, применяются требования п.4.4 настоящего стандарта.\\n\\nК уровням принятия решения о согласовании Перечня, применяются требования п.п.4.6.1 - 4.6.2\\xa0настоящего стандарта.\\n\\nПри формировании стоимости покупки либо аренды земельных участков, находящихся в\\xa0государственной или муниципальной собственности, (в форме Реестра/ Перечня) на уровне 10\\xa0млн\\xa0руб.\\xa0без\\xa0НДС и более согласование Подразделения управления имуществом является обязательным.\\n\\nДо наступления плановой даты безальтернативной закупки, включенной\\n\\n\\n\\nв\\xa0утвержденный Перечень, такая закупка подлежит включению в Годовой план закупок.\\n\\nПри осуществлении безальтернативных закупок в рамках утвержденного Перечня оформление дополнительных закупочных решений не требуется.\\n\\n\\n\\nНазначение и структура процесса\\n\\nЦелью процесса «Проведение безальтернативной закупки» является установление единого порядка осуществления процедуры проведения безальтернативных закупок для своевременного и полного обеспечения потребности ПАО «Газпром нефть» и Обществ Газпром нефть в товарах, работах, услугах, при которых договор заключается с\\xa0единственно возможным поставщиком (подрядчиком, исполнителем) в случаях, предусмотренных п.4.1\\xa0настоящего стандарта.\\n\\nПодпроцессы, из которых состоит описываемый процесс указаны на Рисунке 1.\\n\\nРисунок 1\\n\\nОбщие требования к описываемому процессу\\n\\nНаправление комплекта документов для безальтернативной закупки на\\xa0рассмотрение и согласование осуществляется посредством официального электронного адреса Инициатора/Закупочного подразделения (для Обществ Газпром нефть). При наличии автоматизированный системы комплект документов направляется посредством такой системы.\\n\\nСогласование комплекта документов осуществляется посредством визирования Реестра/Перечня. В отсутствие такой возможности допускается предоставление электронного сообщения (согласования) с официального адреса Согласующего лица/подразделения. При наличии автоматизированной системы согласование осуществляется посредством такой системы.\\n\\nУчастники и исполнители процесса указаны в таблице 1.\\n\\nТаблица 1\\n\\nУчастники процесса Инициатор Структурное подразделение Заказчика, заинтересованное в безальтернативной закупке и инициирующее ее проведение Закупочное подразделение Закупочное подразделение Общества Газпром нефть или назначенное Руководителем Общества ответственное лицо за обеспечение закупочной деятельности Общества Газпром нефть ЕОЛ Руководитель Подразделения в ЦОУЗ, назначенный Руководителем ЦОУЗ для курирования закупок подразделенийРД, ЛПС/ДРП: для нужд курируемых Обществ Газпром нефть/ Подразделений\\xa0РД: Начальник Управления закупок разведки и добычиПАО «Газпром нефть»; для нужд курируемых Обществ Газпром нефть/ Подразделений\\xa0ЛПС/ДРП: Начальник Отдела развития и методологии закупок ПАО «Газпром нефть» Подразделение корпоративной защиты Для подпроцесса 03.03.02.02.01 В КЦ: Начальник Департамента корпоративной защиты ПАО\\xa0«Газпром\\xa0нефть» В Обществе Газпром нефть: Руководитель Подразделения корпоративной защиты Общества Газпром нефть Для подпроцесса 03.03.02.02.02 Начальник Департамента корпоративной защиты ПАО\\xa0«Газпром\\xa0нефть» ЗПППП по профилю деятельности/ Руководитель СП\\xa0ПП\\xa0ПППП/ Руководитель Общества Для подпроцесса 03.03.02.02.01 В КЦ: Заместитель Председателя Правления ПАО\\xa0«Газпром нефть» по\\xa0профилю деятельности/Руководитель СП ПП ПППП; В Обществе Газпром нефть: Руководитель Общества, или иное уполномоченное лицо, исполняющее обязанности Руководителя Общества по Приказу ЗПППП по профилю деятельности/ Руководитель СП\\xa0ПП\\xa0ПППП Для подпроцесса 03.03.02.02.02 Заместитель Председателя Правления ПАО\\xa0«Газпром нефть» по\\xa0профилю деятельности/Руководитель СП ПП ПППП Подразделение ЦОУЗ Подразделение ЦОУЗ, уполномоченное на рассмотрение комплекта документов по БАЗ в ЦОУЗ, принятие решения о возможности БАЗ в ЦОУЗ\\n\\nПорядок выполнения подпроцесса «03.03.02.02.01 Безальтернативная закупка (стоимостью менее 10\\xa0млн руб. без НДС)»\\n\\nОбщие требования к подпроцессу.\\n\\nМодель выполнения подпроцесса представлена на Рисунке 2.\\n\\nОбщая продолжительность подпроцесса: не регламентирована.\\n\\nРисунок 2. Модель подпроцесса «03.03.02.02.01 Безальтернативная закупка (стоимостью менее 10 млн\\xa0руб. без НДС)»\\n\\n18\\nДата печати 10.04.2024 10:45\\n\\n\\n\\nВзаимосвязь со смежными процессами/подпроцессами\\n\\nВзаимосвязь со смежными процессами/подпроцессами указана в таблице 2.\\n\\nТаблица 2\\n\\n№ п/п Номер и наименование смежного\\xa0процесса/ подпроцесса Внешний вход (из\\xa0смежного процесса/ подпроцесса) Внешний выход (в\\xa0смежный процесс/ подпроцесс) Безальтернативная закупка (стоимостью менее 10 млн руб. без НДС) 1 03.02.01 Формирование Годового плана закупок Получается из смежного процесса/подпроцесса: Запись в утвержденном Годовом плане закупок - информация в свободной форме. Передается в смежный процесс/подпроцесс: - 2 08.02.01 Подготовка, согласование, подписание и регистрация договорных документов в системе электронного документооборота Получается из смежного процесса/подпроцесса: - Передается в смежный процесс/подпроцесс: Комплект документов для БАЗ (Согласован ЗПППП по профилю деятельности/ Руководителем СП\\xa0ПП\\xa0ПППП/ Руководителем Общества) - комплект документов.\\n\\nПорядок выполнения подпроцесса «Безальтернативная закупка (стоимостью\\xa0менее 10 млн руб. без НДС)»\\n\\nТаблица 3\\n\\n01 Формирование комплекта документов для БАЗ Исполнитель: Инициатор - ответственный за выполнение. Закупочное подразделение - является согласующим. Вход Выполняет если: 01.\\xa0Соответствующая запись предусмотрена в утвержденном Годовом плане закупок в результате выполнения процесса 03.02.01 Формирование Годового плана закупок ИЛИ\\xa002.\\xa0Комплект документов для БАЗ не согласован Подразделением корпоративной защиты, направлен на доработку в результате выполнения операции 02 Согласование комплекта документов для БАЗ Подразделением корпоративной защиты ИЛИ\\xa003.\\xa0Комплект документов для БАЗ не согласован, направлен на доработку в\\xa0результате выполнения операции 03 Принятие решения о возможности БАЗ. Использует: 01.\\xa0Запись в утвержденном Годовом плане закупок - информация в свободной форме; 02.\\xa0Комплект документов для БАЗ (Направлен на доработку Подразделением корпоративной защиты) - комплект документов (состав комплекта документов указан в Приложении 1); 03.\\xa0Комплект документов для БАЗ (Направлен на доработку ЗПППП по профилю деятельности/Руководителем СП ПП ПППП/Руководителем Общества) - комплект документов (состав комплекта документов указан в Приложении 1). Требования к операции 01.\\xa0Инициатор в соответствии с записью утвержденного ГПЗ формирует комплект документов для БАЗ (далее также – комплект документов) не позднее планируемой даты предоставления документов, указанной в ГПЗ на\\xa0предстоящий период (квартал/месяц) (состав комплекта документов указан в\\xa0Приложении\\xa01). Процесс формирования и корректировки Годового плана закупок регламентирован СК-03.02.01 «Формирование Годового плана закупок». 02.\\xa0В Обществе Газпром нефть Закупочное подразделение оказывает содействие Инициатору в формировании комплекта документов (при\\xa0необходимости). Операции 03-06 применимы только для Обществ Газпром нефть: 03.\\xa0Инициатор направляет сформированный комплект документов в адрес Закупочного подразделения. 04.\\xa0Закупочное подразделение в течение не более 5 (пяти) рабочих дней с\\xa0момента получения комплекта документов проводит его анализ и, в случае отсутствия замечаний, согласовывает комплект документов. При наличии замечаний направляет комплект документов на доработку в адрес Инициатора с указанием замечаний. 05.\\xa0Инициатор в течение не более 3 (трех) рабочих дней с момента получения замечаний корректирует комплект документов и направляет на повторное согласование в адрес Закупочного подразделения. 06.\\xa0Закупочное подразделение в течение не более 2 (двух) рабочих дней с\\xa0момента получения доработанного комплекта документов рассматривает комплект документов, в случае отсутствия замечаний, согласовывает комплект документов. 07.\\xa0Инициатор/Закупочное подразделение (для Обществ Газпром нефть) при наличии замечаний со стороны Подразделения корпоративной защиты/ЗПППП по профилю деятельности/Руководителя\\xa0СП\\xa0ПП\\xa0ПП/Руководителя\\xa0Общества в\\xa0течение не более 3 (трех) рабочих дней с момента получения замечаний корректирует комплект документов и направляет на повторное согласование. Выход Завершено если: После завершения данной операции переход к выполнению операции 02\\xa0Согласование комплекта документов для БАЗ Подразделением корпоративной защиты. Результаты: 01.\\xa0Комплект документов для БАЗ (Сформирован) - комплект документов (состав комплекта документов указан в Приложении 1). Срок выполнения В соответствии с планируемой датой, указанной в Годовом плане закупок. Срок доработки комплекта документов - не более 3 р.д. с момента получения замечаний. 02 Согласование комплекта документов для БАЗ Подразделением корпоративной защиты Исполнитель: Инициатор - ответственный за выполнение; Закупочное подразделение - способствует при выполнении; Подразделение корпоративной защиты - является согласующим. Вход Использует: 01.\\xa0Комплект документов для БАЗ (Сформирован) - комплект документов (состав комплекта документов указан в Приложении 1). Требования к операции 01.\\xa0Инициатор/Закупочное подразделение (для Обществ Газпром нефть) направляет сформированный и согласованный Инициатором/Закупочным подразделением (для Обществ Газпром нефть) комплект документов в адрес Подразделения корпоративной защиты. 02.\\xa0Подразделение корпоративной защиты проводит анализ комплекта документов и, в случае отсутствия замечаний, согласовывает комплект документов. 03.\\xa0При наличии замечаний Подразделение корпоративной защиты направляет комплект документов на доработку в адрес Инициатора/Закупочного подразделения (для Обществ Газпром нефть) с указанием замечаний. Выход Завершено если: 01.\\xa0Комплект документов для БАЗ согласован Подразделением корпоративной защиты, переход к выполнению операции 03 Принятие решения о возможности БАЗ ИЛИ\\xa002.\\xa0Комплект документов для БАЗ не согласован Подразделением корпоративной защиты, направлен на доработку, переход к выполнению операции 01 Формирование комплекта документов для БАЗ. Результаты: 01.\\xa0Комплект документов для БАЗ (Согласован Подразделением корпоративной защиты) - комплект документов (состав комплекта документов указан в\\xa0Приложении 1); 02.\\xa0Комплект документов для БАЗ (Направлен на доработку Подразделением корпоративной защиты) - комплект документов (состав комплекта документов указан в Приложении 1). Срок выполнения не более 5 р.д.- для нового комплекта документов; не более 3 р.д. - для доработанного комплекта документов. 03 Принятие решения о возможности БАЗ Исполнитель: Инициатор - ответственный за выполнение; Закупочное подразделение - способствует при выполнении; ЗПППП по профилю деятельности/Руководитель СП ПП ПП/Руководитель Общества - является согласующим. Вход Выполняет если: 01.\\xa0Комплект документов для БАЗ согласован Подразделением корпоративной защиты в результате выполнения операции 02 Согласование комплекта документов для БАЗ Подразделением корпоративной защиты. Использует: 01.\\xa0Комплект документов для БАЗ (Согласован Подразделением корпоративной защиты) - комплект документов (состав комплекта документов указан в\\xa0Приложении 1). Требования к операции 01.\\xa0Инициатор/Закупочное подразделение (для Обществ Газпром нефть)17 направляет согласованный Подразделением корпоративной защиты комплект документов в адрес ЗПППП по профилю деятельности/Руководителя\\xa0СП\\xa0ПП\\xa0ПП/ Руководителя Общества. 02.\\xa0ЗПППП по профилю деятельности/Руководитель СП\\xa0ПП\\xa0ПП/Руководитель Общества по результатам рассмотрения комплекта документов принимает решение о возможности БАЗ. 03.\\xa0Инициатор/Закупочное подразделение (для Общества Газпром нефть), в\\xa0случае согласования возможности БАЗ, инициирует процедуру заключения договорного документа в системе электронного документооборота в\\xa0соответствии с требованиями процесса 08.02.01 Подготовка, согласование, подписание и регистрация договорных документов в системе электронного документооборота или в соответствии с иными требованиями подготовки, согласования, подписания и регистрации договорных документов, установленных в Компании и/или Обществе Газпром нефть (в случае отсутствия возможности работы в системе электронного документооборота). 04.\\xa0При наличии замечаний/несогласовании ЗПППП по профилю деятельности/ Руководитель СП\\xa0ПП\\xa0ПП/Руководитель Общества направляет комплект документов на доработку в адрес Инициатора/Закупочного подразделения (для\\xa0Обществ Газпром нефть) с указанием замечаний. Выход Завершено если: 01.\\xa0Комплект документов для БАЗ согласован, принято решение о возможности БАЗ, переход к выполнению процесса 08.02.01 Подготовка, согласование, подписание и регистрация договорных документов в системе электронного документооборота ИЛИ\\xa002.\\xa0Комплект документов для БАЗ не согласован, направлен на доработку, переход к выполнению операции 01 Формирование комплекта документов для БАЗ ИЛИ\\xa003.\\xa0Комплект документов для БАЗ не согласован, принято решение об\\xa0отказе в возможности БАЗ. Процесс завершен. Результаты: 01.\\xa0Комплект документов для БАЗ (Согласован ЗПППП по профилю деятельности/ Руководителем СП\\xa0ПП\\xa0ПП/Руководителем Общества) - комплект документов (состав комплекта документов указан в Приложении 1); 02.\\xa0Комплект документов для БАЗ (Направлен на доработку ЗПППП по профилю деятельности/Руководителем СП ПП ПП/Руководителем Общества) - комплект документов (состав комплекта документов указан в Приложении 1); 03.\\xa0Комплект документов для БАЗ (Не согласован ЗПППП по профилю деятельности/Руководителем СП ПП ПП/Руководителем Общества) - комплект документов (состав комплекта документов указан в Приложении 1). Срок выполнения не более 3 р.д.\\n\\n\\n\\nМатрица ответственности по подпроцессу «Безальтернативная закупка (стоимостью менее 10 млн\\xa0руб.\\xa0без\\xa0НДС)»\\n\\nТаблица 4. Закрепление ответственности за выполнение операций.\\n\\n№ п/п Наименование операции Инициатор Закупочное подразделение Подразделение корпоративной защиты ЗПППП по профилю деятельности/ Руководитель СП ПП ПП/ Руководитель Общества 1 Формирование комплекта документов для БАЗ О C 2 Согласование комплекта документов для БАЗ Подразделением корпоративной защиты О Сп С 3 Принятие решения о возможности БАЗ О Сп С Обозначение типов связей: О – ответственный за выполнение, Сп – способствует при выполнении, С – является согласующим\\n\\n\\n\\nПорядок выполнения подпроцесса «03.03.02.02.02 Безальтернативная закупка (стоимостью 10 млн руб. без НДС и более)»\\n\\nОбщие требования к подпроцессу.\\n\\nМодель выполнения подпроцесса представлена на Рисунке 3.\\n\\nОбщая продолжительность подпроцесса: не регламентирована.\\n\\n\\n\\nРисунок 3. Модель подпроцесса «03.03.02.02.02 Безальтернативная закупка (стоимостью 10 млн руб. без НДС и более)»\\n\\n\\n\\nВзаимосвязь со смежными процессами/подпроцессами\\n\\nВзаимосвязь со смежными процессами/подпроцессами указана в таблице 5.\\n\\nТаблица 5\\n\\n№ п/п Номер и наименование смежного\\xa0процесса/ подпроцесса Внешний вход (из\\xa0смежного процесса/ подпроцесса) Внешний выход (в\\xa0смежный процесс/ подпроцесс) Безальтернативная закупка (стоимостью 10 млн руб. без НДС и более) 1 03.02.01 Формирование Годового плана закупок Получается из смежного процесса/подпроцесса: Запись в утвержденном Годовом плане закупок - информация в свободной форме. Передается в смежный процесс/подпроцесс: - 2 08.02.01 Подготовка, согласование, подписание и регистрация договорных документов в системе электронного документооборота Получается из смежного процесса/подпроцесса: - Передается в смежный процесс/подпроцесс: Информация о возможности БАЗ - электронное письмо; Комплект документов для\\xa0БАЗ (Рассмотрен Подразделением ЦОУЗ) - комплект документов.\\n\\nПорядок выполнения подпроцесса «Безальтернативная закупка (стоимостью\\xa010 млн руб. без НДС и более)»\\n\\nТаблица 6\\n\\n01 Формирование комплекта документов для БАЗ Исполнитель: Инициатор - ответственный за выполнение; Закупочное подразделение - способствует при выполнении. Вход Выполняет если: 01.\\xa0Соответствующая запись предусмотрена в утвержденном Годовом плане закупок в результате выполнения процесса 03.02.01 Формирование Годового плана закупок ИЛИ\\xa002.\\xa0Комплект документов для БАЗ не согласован ЕОЛ, направлен на\\xa0доработку в результате выполнения операции 02\\xa0Формирование (консолидация) и согласование комплекта документов для БАЗ ЕОЛ ИЛИ\\xa003.\\xa0Комплект документов для БАЗ не согласован Подразделением корпоративной защиты, направлен на доработку в результате выполнения операции 03 Согласование комплекта документов для БАЗ Подразделением корпоративной защиты ИЛИ\\xa004.\\xa0Комплект документов для БАЗ не согласован ЗПППП по профилю деятельности/Руководителем СП ПП ПП, направлен на доработку в результате выполнения операции 04 Согласование комплекта документов для БАЗ ЗПППП\\xa0по\\xa0профилю деятельности/Руководителем СП ПП ПП ИЛИ\\xa005.\\xa0Комплект документов для БАЗ рассмотрен Подразделением ЦОУЗ, направлен на доработку в результате выполнения операции 05 Рассмотрение комплекта документов для БАЗ в ЦОУЗ и принятие решения о возможности БАЗ. Использует: 01.\\xa0Запись в утвержденном Годовом плане закупок - информация в свободной форме; 02.\\xa0Комплект документов для БАЗ (Направлен на доработку ЕОЛ) - комплект документов (состав комплекта документов указан в Приложении 1); 03.\\xa0Комплект документов для БАЗ (Направлен на доработку Подразделением корпоративной защиты) - комплект документов (состав комплекта документов указан в Приложении 1); 04.\\xa0Комплект документов для БАЗ (Направлен на доработку ЗПППП по профилю деятельности/Руководителем СП ПП ПП) - комплект документов (состав комплекта документов указан в Приложении 1); 05.\\xa0Комплект документов для БАЗ (Направлен на доработку Подразделением ЦОУЗ) - комплект документов (состав комплекта документов указан в Приложении 1) Требования к операции 01.\\xa0Инициатор в соответствии с записью утвержденного ГПЗ (в соответствии с\\xa0СК-03.02.01) формирует комплект документов для БАЗ (далее также – комплект документов) не позднее планируемой даты предоставления документов, указанной в ГПЗ (состав комплекта документов указан в\\xa0Приложении\\xa01). 02.\\xa0Инициатор/Закупочное подразделение (оказывает содействие при необходимости) направляет комплект документов в адрес Подразделения корпоративной защиты (применимо для подразделений КЦ и Обществ Газпром нефть вне РД, ЛПС/ДРП), переход к выполнению операции 03. 03.\\xa0Инициатор/Закупочное подразделение (оказывает содействие при\\xa0необходимости) направляет комплект документов в адрес ЕОЛ (применимо для подразделений КЦ и Обществ Газпром нефть, курируемых подразделениями РД, ЛПС/ДРП), переход к выполнению операции 02. 04.\\xa0Инициатор/Закупочное подразделение (оказывает содействие при необходимости) при наличии замечаний со стороны ЕОЛ/Подразделения корпоративной защиты/ЗПППП по профилю деятельности/Руководителя СП\\xa0ПП\\xa0ПП/Подразделения ЦОУЗ в течение не более 3\\xa0(трех) рабочих дней с\\xa0момента получения замечаний корректирует комплект документов и\\xa0направляет на повторное согласование. Выход Завершено если: 01.\\xa0Комплект документов для БАЗ сформирован, требуется согласование Подразделения корпоративной защиты (для КЦ и Обществ вне РД/ ЛПС/ДРП), переход к выполнению операции 03 Согласование комплекта документов для БАЗ Подразделением корпоративной защиты ИЛИ\\xa002.\\xa0Комплект документов для БАЗ сформирован, переход к выполнению операции 02 Формирование (консолидация) и согласование комплекта документов для БАЗ ЕОЛ. Результаты: 01.\\xa0Комплект документов для БАЗ (Сформирован) - комплект документов (состав комплекта документов указан в Приложении 1). Срок выполнения В соответствии с планируемой датой, указанной в ГПЗ. Срок доработки комплекта документов - не более 3 р.д. с момента получения замечаний. 02 Формирование (консолидация) и согласование комплекта документов для БАЗ ЕОЛ Исполнитель: Инициатор - ответственный за выполнение; Закупочное подразделение - способствует при выполнении; ЕОЛ - является согласующим. Вход Выполняет если: 01.\\xa0Комплект документов для БАЗ сформирован в результате выполнения операции 01 Формирование комплекта документов для БАЗ. Использует: 01.\\xa0Комплект документов для БАЗ (Сформирован) - комплект документов (состав комплекта документов указан в Приложении 1). Требования к операции 01.\\xa0По результатам рассмотрения комплекта документов ЕОЛ, в случае отсутствия замечаний, согласовывает комплект документов. 02.\\xa0При наличии замечаний ЕОЛ направляет комплект документов на\\xa0доработку в адрес Инициатора/Закупочного подразделения с указанием замечаний. В Обществах Газпром нефть Закупочное подразделение оказывает содействие в доработке/корректировке комплекта документов (при необходимости). 03.\\xa0При поступлении на согласование ЕОЛ комплектов документов на\\xa0соответствующий период от нескольких подразделений КЦ и/или Обществ Газпром нефть, курируемых подразделениямиРД, подразделениями ЛПС/ДРП, ЕОЛ консолидирует комплект документов (состав комплекта документов указан в Приложении 1). 04. В случае отсутствия замечаний ЕОЛ направляет согласованный им (и\\xa0при\\xa0необходимости консолидированный) комплект документов в адрес Подразделения корпоративной защиты, переход к выполнению операции 03. Выход Завершено если: 01.\\xa0Комплект документов для БАЗ сформирован (консолидирован) и согласован ЕОЛ, переход к выполнению операции 03 Согласование комплекта документов для БАЗ Подразделением корпоративной защиты ИЛИ\\xa002.\\xa0Комплект документов для БАЗ не согласован ЕОЛ, направлен на доработку, переход к выполнению операции 01 Формирование комплекта документов для БАЗ. Результаты: 01.\\xa0Комплект документов для БАЗ (Сформирован (консолидирован) и\\xa0согласован ЕОЛ) - комплект документов (состав комплекта документов указан в Приложении 1); 02.\\xa0Комплект документов для БАЗ (Направлен на доработку ЕОЛ) - комплект документов (состав комплекта документов указан в Приложении 1). Срок выполнения не более 5 р.д. - для нового комплекта документов; не более 3 р.д. - для доработанного комплекта документов. 03 Согласование комплекта документов для БАЗ Подразделением корпоративной защиты Исполнитель: Инициатор - ответственный за выполнение; Закупочное подразделение - способствует при выполнении; Подразделение корпоративной защиты - является согласующим. Вход Выполняет если: 01.\\xa0Комплект документов для БАЗ сформирован, требуется согласование Подразделения корпоративной защиты (для КЦ и Обществ вне РД/ ЛПС/ДРП) в результате выполнения операции 01 Формирование комплекта документов для БАЗ ИЛИ\\xa002.\\xa0Комплект документов для БАЗ сформирован (консолидирован) и\\xa0согласован ЕОЛ в результате выполнения операции 02 Формирование (консолидация) и согласование комплекта документов для БАЗ ЕОЛ. Использует: 01.\\xa0Комплект документов для БАЗ (Сформирован) - комплект документов (состав комплекта документов указан в Приложении 1); 02.\\xa0Комплект документов для БАЗ (Сформирован (консолидирован) и согласован ЕОЛ) - комплект документов (состав комплекта документов указан в Приложении 1). Требования к операции 01.\\xa0По результатам рассмотрения комплекта документов Подразделение корпоративной защиты, в случае отсутствия замечаний, согласовывает комплект документов. 02.\\xa0При наличии замечаний Подразделение корпоративной защиты направляет комплект документов на доработку в адрес Инициатора/ Закупочного подразделения(оказывает содействие при необходимости) с\\xa0указанием замечаний. 03.\\xa0Инициатор/Закупочное подразделение22 (оказывает содействие при\\xa0необходимости) в случае согласования комплекта документов Подразделением корпоративной защиты, направляет комплект документов в адрес ЗПППП по профилю деятельности/Руководителя\\xa0СП\\xa0ПП\\xa0ПППП. Выход Завершено если: 01.\\xa0Комплект документов для БАЗ согласован Подразделением корпоративной защиты, переход к выполнению операции 04 Согласование комплекта документов для БАЗ ЗПППП по профилю деятельности/Руководителем СП\\xa0ПП\\xa0ПППП ИЛИ\\xa002.\\xa0Комплект документов для БАЗ не согласован Подразделением корпоративной защиты, направлен на доработку, переход к выполнению операции 01 Формирование комплекта документов для БАЗ. Результаты: 01.\\xa0Комплект документов для БАЗ (Направлен на доработку Подразделением корпоративной защиты) - комплект документов (состав комплекта документов указан в Приложении 1); 02.\\xa0Комплект документов для БАЗ (Согласован Подразделением корпоративной защиты) - комплект документов (состав комплекта документов указан в Приложении 1). Срок выполнения не более 5 р.д. - для нового комплекта документов; не более 3 р.д. - для доработанного комплекта документов. 04 Согласование комплекта документов для БАЗ ЗПППП по профилю деятельности/ Руководителем СП ПП ПППП Исполнитель: Инициатор - ответственный за выполнение; Закупочное подразделение - способствует при выполнении; ЗПППП по профилю деятельности/Руководитель СП\\xa0ПП\\xa0ПППП - является согласующим. Вход Выполняет если: 01.\\xa0Комплект документов для БАЗ согласован Подразделением корпоративной защиты в результате выполнения операции 03 Согласование комплекта документов для БАЗ Подразделением корпоративной защиты. Использует: 01.\\xa0Комплект документов для БАЗ (Согласован Подразделением корпоративной защиты) - комплект документов (состав комплекта документов указан в Приложении 1). Требования к операции 01.\\xa0По результатам рассмотрения комплекта документов ЗПППП по профилю деятельности/Руководитель СП\\xa0ПП\\xa0ПППП, в случае отсутствия замечаний, согласовывает комплект документов. 02.\\xa0При наличии замечаний ЗПППП по профилю деятельности/ Руководитель\\xa0СП\\xa0ПП\\xa0ПППП направляет комплект документов на доработку в адрес Инициатора/Закупочного подразделения22 (оказывает содействие при\\xa0необходимости) с указанием замечаний. 03.\\xa0Инициатор/Закупочное подразделение22 (оказывает содействие при\\xa0необходимости), в случае согласования комплекта документов ЗПППП по профилю деятельности/Руководителем СП\\xa0ПП\\xa0ПППП, направляет комплект документов в Подразделение ЦОУЗ. Выход Завершено если: 01.\\xa0Комплект документов для БАЗ согласован ЗПППП по профилю деятельности/ Руководителем СП ПП ПП, переход к выполнению операции 05 Рассмотрение комплекта документов для БАЗ в ЦОУЗ и принятие решения о возможности БАЗ ИЛИ\\xa002.\\xa0Комплект документов для БАЗ не согласован ЗПППП по профилю деятельности/Руководителем СП ПП ПП, направлен на доработку, переход к\\xa0выполнению операции 01 Формирование комплекта документов для БАЗ. Результаты: 01.\\xa0Комплект документов для БАЗ (Согласован ЗПППП по профилю деятельности/ Руководителем СП\\xa0ПП\\xa0ПП) - комплект документов (состав комплекта документов указан в Приложении 1); 02.\\xa0Комплект документов для БАЗ (Направлен на доработку ЗПППП по профилю деятельности/Руководителем СП\\xa0ПП\\xa0ПП) - комплект документов (состав комплекта документов указан в Приложении 1). Срок выполнения не более 3 р.д. - для нового комплекта документов; не более 2 р.д. - для доработанного комплекта документов. 05 Рассмотрение комплекта документов для БАЗ в ЦОУЗ и принятие решения о возможности БАЗ Исполнитель: Подразделение ЦОУЗ - ответственный за выполнение. Вход Выполняет если: 01.\\xa0Комплект документов для БАЗ согласован ЗПППП по профилю деятельности/ Руководителем СП ПП ПП в результате выполнения операции 04 Согласование комплекта документов для БАЗ ЗПППП по профилю деятельности/Руководителем СП ПП ПП. Использует: 01.\\xa0Комплект документов для БАЗ (Согласован ЗПППП по профилю деятельности/ Руководителем СП\\xa0ПП\\xa0ПП) - комплект документов (состав комплекта документов указан в Приложении 1). Требования к операции 01.\\xa0Подразделение ЦОУЗ рассматривает поступивший комплект документов. 02.\\xa0При наличии замечаний Подразделение ЦОУЗ направляет комплект документов на доработку в адрес Инициатора/Закупочного подразделения22 с\\xa0указанием замечаний. 03.\\xa0При отсутствии замечаний Подразделение ЦОУЗ уведомляет Инициатора о результатах рассмотрения комплекта документов/о принятом решении. Выход Завершено если: 01.\\xa0Комплект документов для БАЗ рассмотрен Подразделением ЦОУЗ, переход к выполнению операции 06 Уведомление Инициатора о принятом решении ИЛИ\\xa002.\\xa0Комплект документов для БАЗ рассмотрен Подразделением ЦОУЗ, направлен на доработку, переход к выполнению операции 01 Формирование комплекта документов для БАЗ. Результаты: 01.\\xa0Информация о возможности БАЗ - электронное письмо; 02.\\xa0Комплект документов для БАЗ (Направлен на доработку Подразделением ЦОУЗ) - комплект документов (состав комплекта документов указан в\\xa0Приложении 1); 03. Комплект документов для БАЗ (Рассмотрен Подразделением ЦОУЗ) - комплект документов (состав комплекта документов указан в Приложении 1). Срок выполнения не более 5 р.д. - для нового комплекта документов; не более 3 р.д. - для доработанного комплекта документов. 06 Уведомление Инициатора о принятом решении Исполнитель: Подразделение ЦОУЗ - ответственный за выполнение; Инициатор - является информируемым. Вход Выполняет если: 01.\\xa0Комплект документов для БАЗ рассмотрен Подразделением ЦОУЗ в\\xa0результате выполнения операции 05 Рассмотрение комплекта документов для БАЗ в ЦОУЗ и принятие решения о возможности БАЗ. Использует: 01. Комплект документов для БАЗ (Рассмотрен Подразделением ЦОУЗ) - комплект документов (состав комплекта документов указан в Приложении 1); 02. Информация о возможности БАЗ - электронное письмо. Требования к операции 01.\\xa0Подразделение ЦОУЗ не позднее 1 (одного) рабочего дня, следующего за днем принятия решения о возможности БАЗ уведомляет Инициатора о\\xa0принятом решении. 02.\\xa0Инициатор, в случае согласования возможности БАЗ, инициирует процедуру заключения договорного документа в системе электронного документооборота в соответствии с требованиями процесса 08.02.01 Подготовка, согласование, подписание и регистрация договорных документов в системе электронного документооборота или в соответствии с иными требованиями подготовки, подписания, согласования, подписания и\\xa0регистрации договорных документов, установленных в Компании и/или Обществе Газпром нефть (в случае отсутствия возможности работы в системе электронного документооборота). 03.\\xa0В случае получения отказа в возможности БАЗ Инициатор завершает процесс. Выход Завершено если: 01.\\xa0Получена информация о возможности БАЗ, переход к выполнению процесса 08.02.01 Подготовка, согласование, подписание и регистрация договорных документов в системе электронного документооборота ИЛИ 02. Получена информация об отказе в возможности БАЗ. Результаты: 01.\\xa0Информация о возможности БАЗ - электронное письмо; 02.\\xa0Комплект документов для БАЗ (Рассмотрен Подразделением ЦОУЗ) - комплект документов (состав комплекта документов указан в Приложении 1). Срок выполнения 1 р.д.\\n\\n\\n\\nМатрица ответственности по подпроцессу «Безальтернативная закупка (стоимостью 10 млн руб. без НДС и более)»\\n\\nТаблица 7. Закрепление ответственности за выполнение операций.\\n\\n№ п/п Наименование операции Инициатор Закупочное подразделение ЕОЛ Подразделение корпоративной защиты ЗПППП по профилю деятельности/ Руководитель СП ПППППП Подразделение ЦОУЗ 1 Формирование комплекта документов для БАЗ О Сп 2 Формирование (консолидация) и согласование  комплекта документов для БАЗ ЕОЛ О Сп С 3 Согласование комплекта документов для БАЗ Подразделением корпоративной защиты О Сп С 4 Согласование комплекта документов для БАЗ ЗПППП по профилю деятельности/ Руководителем СП ПП ПППП О Сп С 5 Рассмотрение комплекта документов для БАЗ в ЦОУЗ и принятие решения о возможности БАЗ О 6 Уведомление Инициатора о принятом решении И О Обозначение типов связей: О – ответственный за выполнение, Сп – способствует при выполнении, И – является информируемым, С – является согласующим\\n\\nПриложение 1 Описание комплектов документов\\n\\n(обязательное)\\n\\nТаблица 8\\n\\nКомплект документов Состав комплекта документов Комплект документов для БАЗ 01.\\xa0Реестр безальтернативных закупок (Ш-03.03.02.02-01) (PDF, Excel) – электронный документ. К Реестру безальтернативных закупок должны быть приложены следующие документы (в зависимости от основания БАЗ, установленного п.4.1\\xa0настоящего стандарта): -\\xa0выписка из Реестра субъектов естественных монополий на данный вид услуг/работ/товаров, а в случае если контрагент не включен в указанный Реестр иные подтверждающие документы (п.4.1.1\\xa0настоящего стандарта); -\\xa0тарифы/утвержденные расценки (п.4.1.2/п.4.1.4\\xa0настоящего стандарта Положения о закупках). -\\xa0нормативный правовой акт, устанавливающий полномочия государственных учреждений, государственных унитарных предприятий, иных участвующих в предоставлении государственных и муниципальных услуг организаций, привлеченных органами исполнительной власти (п.4.1.3\\xa0настоящего стандарта).\\n\\n\\n\\nБиблиография\\n\\n<Федеральный закон от 18.07.2011 №\\xa0223-ФЗ «О\\xa0закупках товаров, работ, услуг отдельными видами юридических лиц».\\n\\nФедеральный закон от 17.08.1995 №\\xa0147-ФЗ «О естественных монополиях».\\n\\n\\n\\nИстория изменений документа\\n\\nДата Версия Описание изменений/ разработан взамен Автор/Соавтор <при наличии> 12.05.2022 2.0 Для согласования в СЭД Начальник Управления методологии ДПОиМ ДЗиКС ПАО «Газпром нефть» В.В.\\xa0Жидкова 13.05.2022 2.0 Внесение изменений в разделы 1, 3-5, 7-8 стандарта, шаблоны к стандарту в связи с изменением лимитов принятия решений Начальник Управления методологии  ДПОиМ ДЗиКС ПАО «Газпром нефть» В.В.\\xa0Жидкова'"
            ],
            "application/vnd.google.colaboratory.intrinsic+json": {
              "type": "string"
            }
          },
          "metadata": {},
          "execution_count": 16
        }
      ]
    },
    {
      "cell_type": "markdown",
      "source": [
        "Заменяем все абзацные отступы, которые могут помешать корректно считать данные (на этапе ретривера или в самой llm)"
      ],
      "metadata": {
        "id": "nNqwW0p_fKwp"
      }
    },
    {
      "cell_type": "code",
      "source": [
        "for i in range(len(docs)):\n",
        "    docs[i] = docs[i].replace(\"\\n\", \"\")\n",
        "    docs[i] = docs[i].replace(\"  \", \" \")\n",
        "    docs[i] = docs[i].replace(\"\\xa0\", \"\\n\")\n",
        "    docs[i] = docs[i].replace(\"\\t\", \" \")\n",
        "# При необходимости можно произвести другие специфические замены"
      ],
      "metadata": {
        "id": "nCQZg7pyYicj"
      },
      "execution_count": null,
      "outputs": []
    },
    {
      "cell_type": "markdown",
      "source": [
        "# Используем \"умную\" нарезку с помощью `RecursiveCharacterTextSplitter` этот сплиттер рекурсивно проходится по куску текста, сначала пытается разбить по абзацам (`\\n\\n`), если не находит - пытается разбить по предложениям (`.`) и так далее."
      ],
      "metadata": {
        "id": "bLUiv9S3gGPo"
      }
    },
    {
      "cell_type": "markdown",
      "source": [
        "Подробнее:\n",
        "\n",
        "https://python.langchain.com/docs/modules/data_connection/document_transformers/"
      ],
      "metadata": {
        "id": "qPasgIG3gsSb"
      }
    },
    {
      "cell_type": "code",
      "source": [
        "splitter = RecursiveCharacterTextSplitter(\n",
        "    chunk_size=700, # размер документа в символах\n",
        "    chunk_overlap=100, # насколько соседние документы могут перекрывать друг-друга\n",
        "    length_function=len, # функция, по которой считается размер документа\n",
        ")\n",
        "\n",
        "split_documents = splitter.create_documents(docs)\n",
        "len(split_documents) # проверяем на сколько кусков нарезал все документы"
      ],
      "metadata": {
        "colab": {
          "base_uri": "https://localhost:8080/"
        },
        "id": "o7wb5-PNYmnT",
        "outputId": "0e92389e-87e5-4804-8594-052d9f5b7818"
      },
      "execution_count": null,
      "outputs": [
        {
          "output_type": "execute_result",
          "data": {
            "text/plain": [
              "2788"
            ]
          },
          "metadata": {},
          "execution_count": 18
        }
      ]
    },
    {
      "cell_type": "markdown",
      "source": [
        "Здесь необходимо ввести данные API из `Yandex Cloud`"
      ],
      "metadata": {
        "id": "9QHcyVNohDOm"
      }
    },
    {
      "cell_type": "markdown",
      "source": [
        "При регистрации дают довольно много токенов для использования\n",
        "\n",
        "_С моим уровнем тупежа и попыткой загружать каждый раз весь объем документов постратил около 20 рублей из предоставленных 3000_"
      ],
      "metadata": {
        "id": "qHMUL_jihm3e"
      }
    },
    {
      "cell_type": "code",
      "source": [
        "api_key = \"\"\n",
        "folder_id = \"\"\n",
        "api_id = \"\""
      ],
      "metadata": {
        "id": "WIz2AZggYnwj"
      },
      "execution_count": null,
      "outputs": []
    },
    {
      "cell_type": "markdown",
      "source": [
        "#Записываем функию, которая создает массив из векторов для каждого куска наших документов"
      ],
      "metadata": {
        "id": "eKP1STEoh3GC"
      }
    },
    {
      "cell_type": "code",
      "source": [
        "class YaGPTEmbeddings(Embeddings):\n",
        "\n",
        "    def __init__(self,folder_id,api_key,sleep_interval=1):\n",
        "        self.folder_id = folder_id\n",
        "        self.api_key = api_key\n",
        "        self.sleep_interval = sleep_interval\n",
        "        self.headers = {\n",
        "                        \"Authorization\" : f\"Api-key {api_key}\",\n",
        "                        \"x-folder-id\" : folder_id }\n",
        "\n",
        "    def embed_document(self, text):\n",
        "        j = {\n",
        "          \"modelUri\": f\"emb://{folder_id}/text-search-query/latest\",\n",
        "          \"text\": text\n",
        "        }\n",
        "        res = requests.post(\"https://llm.api.cloud.yandex.net/foundationModels/v1/textEmbedding\",\n",
        "                            json=j,headers=self.headers)\n",
        "        vec = res.json()['embedding']\n",
        "        return vec\n",
        "\n",
        "    def embed_documents(self, texts, chunk_size = 0):\n",
        "        res = []\n",
        "        for x in texts:\n",
        "            res.append(self.embed_document(x))\n",
        "            time.sleep(self.sleep_interval)\n",
        "        return res\n",
        "\n",
        "    def embed_query(self, text):\n",
        "        j = {\n",
        "          \"modelUri\": f\"emb://{folder_id}/text-search-query/latest\",\n",
        "          \"text\": text\n",
        "        }\n",
        "        res = requests.post(\"https://llm.api.cloud.yandex.net/foundationModels/v1/textEmbedding\",\n",
        "                            json=j,headers=self.headers)\n",
        "        vec = res.json()['embedding']\n",
        "        time.sleep(self.sleep_interval)\n",
        "        return vec\n",
        "\n",
        "\n",
        "embeddings = YaGPTEmbeddings(folder_id,api_key)"
      ],
      "metadata": {
        "id": "lvOeKkNDeqou"
      },
      "execution_count": null,
      "outputs": []
    },
    {
      "cell_type": "markdown",
      "source": [
        "Стоит отметить, что предусмотрен более простой способ образения к llm для эмбеддинга, который описан у них в Git (его будем использовать для lmm c генерацией):\n",
        "\n",
        "https://github.com/yandex-datasphere/yandex-chain/blob/main/README.md"
      ],
      "metadata": {
        "id": "RUG-MSdhiEDw"
      }
    },
    {
      "cell_type": "code",
      "source": [
        "# from yandex_chain import YandexEmbeddings\n",
        "\n",
        "# embeddings = YandexEmbeddings(...)\n",
        "# print(embeddings(\"How are you today?\"))"
      ],
      "metadata": {
        "id": "412RXGJ-jGHl"
      },
      "execution_count": null,
      "outputs": []
    },
    {
      "cell_type": "markdown",
      "source": [
        "# Создаем токены, сохраныем их в базу данных `FAISS` от FAIR - создателей концепции `RAG` и сохраняем БД локально (в будущем будем сразу обращаться к данным вней без повторного эмбедднга)"
      ],
      "metadata": {
        "id": "Y1cZtTF0jKJF"
      }
    },
    {
      "cell_type": "code",
      "source": [
        "db = FAISS.from_documents(\n",
        "    split_documents, embeddings\n",
        ")\n",
        "\n",
        "db.save_local(\"faiss_db\") # Сохранение БД локально\n",
        "# 19 минут на 770 кусков по 700 символов"
      ],
      "metadata": {
        "id": "DZRny3Vzbh3h"
      },
      "execution_count": null,
      "outputs": []
    },
    {
      "cell_type": "markdown",
      "source": [
        "Для выгрузки в будущем"
      ],
      "metadata": {
        "id": "6YXluH84aU5l"
      }
    },
    {
      "cell_type": "code",
      "source": [
        "#db = FAISS.load_local(\"faiss_index\", embeddings)"
      ],
      "metadata": {
        "id": "K1_MsuvZaRD1"
      },
      "execution_count": null,
      "outputs": []
    },
    {
      "cell_type": "markdown",
      "source": [
        "Проверяем находятся ли релевантные ответы"
      ],
      "metadata": {
        "id": "4wYjNarBj7Vm"
      }
    },
    {
      "cell_type": "code",
      "source": [
        "db.similarity_search(\"В каком случае могут подаваться альтернативные предложения?\")"
      ],
      "metadata": {
        "colab": {
          "base_uri": "https://localhost:8080/"
        },
        "id": "s6cTzSoKcBrf",
        "outputId": "923a6273-cbb0-4294-a062-cdceeaa4be03"
      },
      "execution_count": null,
      "outputs": [
        {
          "output_type": "execute_result",
          "data": {
            "text/plain": [
              "[Document(page_content='ценовое предложение, которое должно быть ниже ценового предложения, ранее поданного ими одновременно с заявкой на участие в конкурсе в электронной форме либо одновременно с окончательным предлож ением (в случае, если возможность подачи нового ценового предложения одновременно с окончательным ценовым предложением предусмотрена уточненным извещением об осуществлении конкурса в электронной форме и документацией о конкурентной закупке). 10.3.9.5.  Если участник конкурса не меняет свое ценовое предложение, он вправе не подавать дополнительное ценовое предложение. При этом ранее поданное им ценовое предложение рассматривается при составлении итогового протокола. 10.4. Особенности проведения'),\n",
              " Document(page_content='стоимостью договора в общем портфеле заказов поставщиков (подрядчиков, исполнителей) и, например, необходимостью мобилизации на новое месторождение'),\n",
              " Document(page_content='основного предложения. Количество альтерн ативных предложений, подаваемых одним участником закупки, устанавливается в документации о конкурентной закупке. 7.5.17. Альтернативные предложения могут быть поданы только в отношении указанных в документации о конкурентной закупке условий основного предложения. 7.6. Открытие доступа к заявкам на участие в конкурентных закупках в электронной форме. Вскрытие заявок на участие в конкурентной закупке 7.6.1. При проведении конкурентной закупки в электронной форме Организатором в присутствии представителя Подразделения по безопасности осуществляется доступ к заявкам участников закупки в соответствии с требованиями раздела 8. 7.6.2. Заявки на участие в'),\n",
              " Document(page_content='и/или условий договора. Дополнительное к основному предложению предложение участника закупки, отличающееся от основного предложения только ценой, не является альтернативным предложением. 1.2.3. Аукцион - форма торгов, при которой победителем аукциона, с которым заключается договор, признается лицо, заявка которого соответствует требованиям, установленным документацией о конкурентной закупке, и которое предложило наиболее низкую цену договора путем снижения начальной (максимальной) цены договора, указан ной в извещении о проведении аукциона, на установленную в документации об аукционе величину (далее - «шаг аукциона»). В случае, если при проведении аукциона цена договора снижена до нуля,')]"
            ]
          },
          "metadata": {},
          "execution_count": 36
        }
      ]
    },
    {
      "cell_type": "markdown",
      "source": [
        "Использование ретривера, тоже не является обязательным шагом для построения `RAG`. Потому что векторная база сама может осуществлять поиск по схожести и выдавать релевантные документы, которые мы затем можем подставить в промпт в качестве контекста. <br>\n",
        "\n",
        "    \n",
        "**Ретривер** - это такая надстройка над базой данных, которая может выдавать похожие документы, но не обязана их хранить. <br>"
      ],
      "metadata": {
        "id": "X6nZf17aWbMn"
      }
    },
    {
      "cell_type": "code",
      "source": [
        "retriever = db.as_retriever(\n",
        "    search_type=\"similarity\",  # тип поиска похожих документов\n",
        "    k=4,  # количество возвращаемых документов (Default: 4)\n",
        "    # score_threshold=None,  # минимальный порог для поиска \"similarity_score_threshold\"\n",
        ")\n",
        "retriever.get_relevant_documents(\n",
        "    \"При осуществлении конкурентной закупки в электронной форме\"\n",
        ")"
      ],
      "metadata": {
        "colab": {
          "base_uri": "https://localhost:8080/"
        },
        "id": "_fjcMBCtc03s",
        "outputId": "6e657f01-5204-4874-deca-05bb91fd1270"
      },
      "execution_count": null,
      "outputs": [
        {
          "output_type": "execute_result",
          "data": {
            "text/plain": [
              "[Document(page_content='на участие в конкурентной закупке в электронной форме, окончательных предложений, предоставление Комиссии доступа к указанным заявкам, сопоставление ценовых предложений, дополнительных ценовых предложений участников конкурентной закупки в электронной форме, обеспечиваются посредством функций электронной площадки . 1.2.25. Конкурентный отбор - способ конкурентной закупки, не являющийся торгами (конкурсом, аукционом, запросом предложений, запросом котировок) в соответствии со статьями 447 -449 Гражданского кодекса Российской Федерации или публичным конкурсом в соответствии со статьями 1057 -1061 Гражданского кодекса Российско й Федерации, правила проведения которой регламентируются настоящим'),\n",
              " Document(page_content='конкурентных закупок. 1.2.31. Неконкурентная закупка в электронной форме - форма проведения неконкурентной закупки, при которой документооборот осуществляется в форме электронных докум ентов, передаваемых посредством электронной площадки / информационной системы или Интернет -платформы , одобренной Центральным органом управления закупками. 1.2.32. Окончательное предложение - подаваемые участником закупки в соответствии с требованиями настоящего Положения при осуществлении конкурентной закупки сведения о функциональных характеристиках (потребительских свойствах) товара, качестве работы, услуги и об иных условиях исполнения договора. 1.2.33. Организатор Предквалификации - Центральный орган'),\n",
              " Document(page_content='предложений участников конкурентной закупки в электронной форме, согласование проектов протоколов, составляемых в ходе осуществления закупки, обеспечиваются функциями электронной площадки . 8.3. Обмен между участником конкурентной закупки в электронной форме, Заказчиком, Организатором информацией, связанной с осуществлением конкурентной закупки в электронной форме, осуществляется в форме электронных сообщений с использованием официальных ящиков электронной почты Заказч ика и/или Организатора . 8.4. При переносе даты подведения итогов конкурентной закупки в электронной форме на более поздний срок в уведомлении, направляемом участникам такой закупки, должно содержаться указание о возможности'),\n",
              " Document(page_content='(при проведении конкурентной закупки в бумажной форме). 7.3.1.21. Порядок возврата заявки на участие в конкурентной закупке в случае отмены конкурентной закупки или завершения процедур конкурентной')]"
            ]
          },
          "metadata": {},
          "execution_count": 81
        }
      ]
    },
    {
      "cell_type": "markdown",
      "source": [
        "# В качестве llm Используем YandexLLM (YandexGPT)\n",
        "\n",
        "Тем не менее, можно было использовать класс, аналогичный `YaGPTEmbeddings`. Но этот вариант более лаконичный и надежный"
      ],
      "metadata": {
        "id": "Q2W27bpRWkwn"
      }
    },
    {
      "cell_type": "code",
      "source": [
        "from langchain.chains import ConversationChain\n",
        "from langchain.chains.conversation.memory import ConversationSummaryMemory\n",
        "from langchain.prompts import ChatPromptTemplate\n"
      ],
      "metadata": {
        "id": "xcL9i8lgcKiE"
      },
      "execution_count": null,
      "outputs": []
    },
    {
      "cell_type": "code",
      "source": [
        "LLM = YandexLLM(folder_id=folder_id, api_key=api_key)"
      ],
      "metadata": {
        "id": "jQoCc1ZYdkTe"
      },
      "execution_count": null,
      "outputs": []
    },
    {
      "cell_type": "code",
      "source": [
        "# Создаём простой шаблон\n",
        "template = \"\"\"\n",
        "Ответь на русском языке на вопрос, используя только следующий контекст:\n",
        "\n",
        "{context}\n",
        "\n",
        "Вопрос: {question}\n",
        "Если ты не уверен в ответе, лучше ответь, что не знаешь. За правильный ответ дам 15 $.\n",
        "\"\"\"\n",
        "# Создаём промпт из шаблона\n",
        "prompt = ChatPromptTemplate.from_template(template)\n",
        "\n",
        "\n",
        "# Объявляем функцию, которая будет собирать строку из полученных документов\n",
        "def format_docs(docs):\n",
        "    return \"\\n\\n\".join([d.page_content for d in docs])\n",
        "\n",
        "\n",
        "# Создаём цепочку\n",
        "chain = (\n",
        "    {\"context\": retriever | format_docs, \"question\": RunnablePassthrough()}\n",
        "    | prompt\n",
        "    | LLM\n",
        "    | StrOutputParser()\n",
        ")"
      ],
      "metadata": {
        "id": "9q2hK6qedTpt"
      },
      "execution_count": null,
      "outputs": []
    },
    {
      "cell_type": "markdown",
      "source": [
        "# Вопросы и ответы, непосредственно от \"обученной модели\""
      ],
      "metadata": {
        "id": "YPcNTh8LYRLA"
      }
    },
    {
      "cell_type": "code",
      "source": [
        "print(chain.invoke(\"По какой схеме можно расположить однокомпонентные форсунки?\"))"
      ],
      "metadata": {
        "colab": {
          "base_uri": "https://localhost:8080/"
        },
        "id": "ciOhvh2zdqGu",
        "outputId": "d303b5d9-102d-4006-c956-eda99e5a9e83"
      },
      "execution_count": null,
      "outputs": [
        {
          "output_type": "stream",
          "name": "stdout",
          "text": [
            "К сожалению, я не могу дать однозначный ответ на ваш вопрос, так как не имею полной информации в контексте задачи. Могу лишь предположить, что речь идёт о схемах расположения форсунок на головках двигателей внутреннего сгорания. Поскольку это можно сделать по-разному в зависимости от типа двигателя, количества форсунок и конкретных особенностей конструкции.\n",
            "  В вашем описании примеры двух схем расположения форсунок:\n",
            "1. По периферии камеры горения топлива .\n",
            "2. По концентрическим окружностям у днища полого углубления в центре головки.\n",
            "\n",
            "Для точного ответа на этот вопрос необходимо больше информации.\n"
          ]
        }
      ]
    },
    {
      "cell_type": "code",
      "source": [
        "print(chain.invoke(\"Какие типы форсунок есть?\"))"
      ],
      "metadata": {
        "colab": {
          "base_uri": "https://localhost:8080/"
        },
        "id": "6gwdepVxi5zb",
        "outputId": "fbac99d9-7c16-455a-a868-a6c51de3eed5"
      },
      "execution_count": null,
      "outputs": [
        {
          "output_type": "stream",
          "name": "stdout",
          "text": [
            "Я думаю, что в запросе спрашивается о типах форсунок в жидкостных ракетных двигателях.\n",
            "\n",
            "Существуют следующие **основные типы форсунок**:\n",
            "* **Струйные форсунки**, которые представляют собой отверстия в головке двигателя, соединяющие полость горючего с камерой сгорания.\n",
            "* **Центробежные форсунки** используют центробежные силы для распыления топлива, и применяются в двигателях, где необходимо создать более высокое давление впрыска.\n",
            " * **Щелевые форсунки**, в которых топливо движется в узкой щели между стенками форсунки и выходит сквозь отверстие. Они похожи на струйные с круглой формой выходного отверстия, но имеют щелевое отверстие.\n",
            "* В сочетании **струйных и центробежных** форсунок используются в некоторых конструкциях для объединения преимуществ обоих типов.\n"
          ]
        }
      ]
    },
    {
      "cell_type": "code",
      "source": [
        "print(chain.invoke(\"В каком случае могут подаваться альтернативные предложения\"))"
      ],
      "metadata": {
        "colab": {
          "base_uri": "https://localhost:8080/"
        },
        "id": "RvfrPiMXjgkW",
        "outputId": "b0070218-0eee-4cbc-bd5d-49b005bad80c"
      },
      "execution_count": null,
      "outputs": [
        {
          "output_type": "stream",
          "name": "stdout",
          "text": [
            "К сожалению, я не могу знать наверняка, так как не имею информации о полном тексте вопроса или условиях конкретного конкурса или закупки. Но, судя по представленному тексту, **альтернативные предложения могут подаваться в рамках конкурентной закупки.**  \n",
            "\n",
            "Для более точного ответа предположительно потребуется дополнительная информация, такая как:\n",
            "- конкретные требования документации и уточнённого извещения;\n",
            "- условия проведения закупки;\n",
            "- конкретный статус и положение участника запроса – принял ли он решение подать альтернативное предложение;\n",
            "- другие относящиеся к закупкам детали.\n"
          ]
        }
      ]
    },
    {
      "cell_type": "code",
      "source": [
        "print(chain.invoke(\"Преимущества самовоспламеняющихся топлив?\"))"
      ],
      "metadata": {
        "colab": {
          "base_uri": "https://localhost:8080/"
        },
        "id": "rstu0Tiaj56v",
        "outputId": "ad818916-8687-4a0a-ecda-0bf324550b49"
      },
      "execution_count": null,
      "outputs": [
        {
          "output_type": "stream",
          "name": "stdout",
          "text": [
            "К сожалению, я не могу ответить на этот вопрос, поскольку я — языковой AI, моя задача — отвечать на вопросы, связанные с информацией, которая содержится в тексте. Для детального ответа на ваш вопрос необходимо обладать более широкими знаниями в области ракетных двигателей. Возможно, вам стоит изучить эту область более детально, чтобы получить правильный ответ.\n"
          ]
        }
      ]
    },
    {
      "cell_type": "code",
      "source": [
        "print(chain.invoke(\"Какие доументы может запросить огранизатор у инициатора?\"))"
      ],
      "metadata": {
        "colab": {
          "base_uri": "https://localhost:8080/"
        },
        "id": "OgYjw6O5WvfX",
        "outputId": "b655ed69-6848-42ad-f5ca-20c29700b418"
      },
      "execution_count": null,
      "outputs": [
        {
          "output_type": "stream",
          "name": "stdout",
          "text": [
            "К сожалению, я не могу знать наверняка, какие именно документы может запрашивать организатор закупок.  \n",
            "\n",
            "Из предоставленного контекста можно сделать вывод, что возможно организатор может запрашивать следующие документы:\n",
            "1. Документацию о предквалификации из официальных источников;  \n",
            "2. Разъяснения по положениям документации о предквалификаци;  \n",
            "3. Уполномочивающие документы (например, доверенность или приказ), подтверждающие полномочия лиц, которые подписали электронный документ;  \n",
            "4. Электронные документы, фиксирующие нарушения.\n"
          ]
        }
      ]
    },
    {
      "cell_type": "code",
      "source": [
        "print(chain.invoke(\"Какие документы обязан предоставить инициатор?\"))"
      ],
      "metadata": {
        "colab": {
          "base_uri": "https://localhost:8080/"
        },
        "id": "FxGpsrHif4rR",
        "outputId": "9f891c98-7039-4903-eef7-b0b875ff329f"
      },
      "execution_count": null,
      "outputs": [
        {
          "output_type": "stream",
          "name": "stdout",
          "text": [
            "Я не могу ответить на ваш вопрос, так как исчерпывающий список необходимых документов должен быть указан в договоре или договорной документации. Возможно, вы имели в виду «Какие документы **может** предоставить инициатор?» В этом случае к договорной документации могут относиться договоры, соглашения к договору (спецификации, технические задания и др.), инструкции, регламенты и пр.\n"
          ]
        }
      ]
    },
    {
      "cell_type": "code",
      "source": [
        "print(chain.invoke(\"Когда должен подписывать итоговый протокол закупочной комиссии?\"))"
      ],
      "metadata": {
        "colab": {
          "base_uri": "https://localhost:8080/"
        },
        "id": "BYGlw2figJ45",
        "outputId": "ec1a37cf-f833-4d61-8054-c67ac604cfb6"
      },
      "execution_count": null,
      "outputs": [
        {
          "output_type": "stream",
          "name": "stdout",
          "text": [
            "Не могу точно ответить на этот вопрос, но, вероятно, подписание итогового протокола происходит **не позднее чем через двадцать дней** с момента размещения извещения о закупке.\n"
          ]
        }
      ]
    },
    {
      "cell_type": "code",
      "source": [],
      "metadata": {
        "id": "n821J2GFizD0"
      },
      "execution_count": null,
      "outputs": []
    }
  ]
}